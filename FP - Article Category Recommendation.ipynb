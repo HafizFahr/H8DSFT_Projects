{
 "cells": [
  {
   "cell_type": "markdown",
   "id": "2d7c6c7c-705b-43e8-9e86-650c3f5c5a8f",
   "metadata": {},
   "source": [
    "# Article Category Recommendation Using RNN\n",
    "**Author: Hafiz Fahrurrozi**\n",
    "\n",
    "Text classification is crucial along with growing size of articles on the web. Sometimes the would-be-reader are having difficulties finding relevant article by category. To help writers and readers alike, we create a simple category recommendation model using Recurrent Neural Network.\n",
    "\n",
    "The dataset used for the training is taken from kaggle."
   ]
  },
  {
   "cell_type": "markdown",
   "id": "ee9dff0d-855f-4b48-a04c-91bf03eeb167",
   "metadata": {},
   "source": [
    "## Import Libraries"
   ]
  },
  {
   "cell_type": "code",
   "execution_count": 1,
   "id": "b6ae2b72-cb10-422a-a1b5-1f90fb8805ef",
   "metadata": {},
   "outputs": [],
   "source": [
    "import numpy as np\n",
    "import pandas as pd\n",
    "import matplotlib.pyplot as plt\n",
    "import seaborn as sns\n",
    "import nltk, re, gensim\n",
    "from yake import KeywordExtractor\n",
    "import tensorflow as tf\n",
    "from tensorflow import keras\n",
    "from sklearn import metrics, model_selection, preprocessing"
   ]
  },
  {
   "cell_type": "markdown",
   "id": "399c02d5-674d-4605-99b6-12feef13affd",
   "metadata": {},
   "source": [
    "Load cython for faster word vectorization"
   ]
  },
  {
   "cell_type": "code",
   "execution_count": 2,
   "id": "25aac910-2bbf-4d1a-95ac-2a0ae1209003",
   "metadata": {},
   "outputs": [],
   "source": [
    "%load_ext Cython"
   ]
  },
  {
   "cell_type": "markdown",
   "id": "380f800d-86e2-4c6b-aa83-735f2586a65b",
   "metadata": {},
   "source": [
    "Set tensorflow to use memory growth"
   ]
  },
  {
   "cell_type": "code",
   "execution_count": 3,
   "id": "82fdde09-4c5d-43b1-9942-e41ad82bb6cb",
   "metadata": {},
   "outputs": [],
   "source": [
    "gpu_devices = tf.config.experimental.list_physical_devices(\"GPU\")\n",
    "for device in gpu_devices:\n",
    "    tf.config.experimental.set_memory_growth(device, True)"
   ]
  },
  {
   "cell_type": "markdown",
   "id": "fdf6ddbe-b9d7-4261-bd8d-dca72933a702",
   "metadata": {},
   "source": [
    "Download stop words and wordnet"
   ]
  },
  {
   "cell_type": "code",
   "execution_count": 4,
   "id": "6975ceac-39d1-4a7b-bcc1-1ab69db2c628",
   "metadata": {},
   "outputs": [
    {
     "name": "stderr",
     "output_type": "stream",
     "text": [
      "[nltk_data] Downloading package stopwords to\n",
      "[nltk_data]     C:\\Users\\Asus\\AppData\\Roaming\\nltk_data...\n",
      "[nltk_data]   Package stopwords is already up-to-date!\n",
      "[nltk_data] Downloading package wordnet to\n",
      "[nltk_data]     C:\\Users\\Asus\\AppData\\Roaming\\nltk_data...\n",
      "[nltk_data]   Package wordnet is already up-to-date!\n"
     ]
    }
   ],
   "source": [
    "nltk.download('stopwords')\n",
    "nltk.download('wordnet')\n",
    "\n",
    "stop_words = set(nltk.corpus.stopwords.words('english'))\n",
    "lemma = nltk.stem.WordNetLemmatizer()"
   ]
  },
  {
   "cell_type": "markdown",
   "id": "5734b253-9db0-43fb-93c9-b5274831adaf",
   "metadata": {},
   "source": [
    "## Data Loading\n",
    "Load the data from csv"
   ]
  },
  {
   "cell_type": "code",
   "execution_count": 12,
   "id": "e7743e6d-741b-484a-8e7e-905b972cc463",
   "metadata": {},
   "outputs": [
    {
     "data": {
      "text/html": [
       "<div>\n",
       "<style scoped>\n",
       "    .dataframe tbody tr th:only-of-type {\n",
       "        vertical-align: middle;\n",
       "    }\n",
       "\n",
       "    .dataframe tbody tr th {\n",
       "        vertical-align: top;\n",
       "    }\n",
       "\n",
       "    .dataframe thead th {\n",
       "        text-align: right;\n",
       "    }\n",
       "</style>\n",
       "<table border=\"1\" class=\"dataframe\">\n",
       "  <thead>\n",
       "    <tr style=\"text-align: right;\">\n",
       "      <th></th>\n",
       "      <th>category</th>\n",
       "      <th>headline</th>\n",
       "      <th>short_description</th>\n",
       "      <th>text</th>\n",
       "    </tr>\n",
       "  </thead>\n",
       "  <tbody>\n",
       "    <tr>\n",
       "      <th>0</th>\n",
       "      <td>crime</td>\n",
       "      <td>There Were 2 Mass Shootings In Texas Last Week...</td>\n",
       "      <td>She left her husband. He killed their children...</td>\n",
       "      <td>DENTON, Texas â€• Amanda Painter sat at the ki...</td>\n",
       "    </tr>\n",
       "    <tr>\n",
       "      <th>1</th>\n",
       "      <td>entertainment</td>\n",
       "      <td>Will Smith Joins Diplo And Nicky Jam For The 2...</td>\n",
       "      <td>Of course it has a song.</td>\n",
       "      <td>The 2018 FIFA World Cup starts June 14 in Russ...</td>\n",
       "    </tr>\n",
       "    <tr>\n",
       "      <th>2</th>\n",
       "      <td>entertainment</td>\n",
       "      <td>Hugh Grant Marries For The First Time At Age 57</td>\n",
       "      <td>The actor and his longtime girlfriend Anna Ebe...</td>\n",
       "      <td>Love actually turned to matrimony for Hugh Gra...</td>\n",
       "    </tr>\n",
       "    <tr>\n",
       "      <th>3</th>\n",
       "      <td>entertainment</td>\n",
       "      <td>Jim Carrey Blasts 'Castrato' Adam Schiff And D...</td>\n",
       "      <td>The actor gives Dems an ass-kicking for not fi...</td>\n",
       "      <td>Rep. Adam Schiff (D-Calif.) and fellow Democra...</td>\n",
       "    </tr>\n",
       "    <tr>\n",
       "      <th>4</th>\n",
       "      <td>entertainment</td>\n",
       "      <td>Julianna Margulies Uses Donald Trump Poop Bags...</td>\n",
       "      <td>The \"Dietland\" actress said using the bags is ...</td>\n",
       "      <td>Actress Julianna Margulies unleashed her funny...</td>\n",
       "    </tr>\n",
       "  </tbody>\n",
       "</table>\n",
       "</div>"
      ],
      "text/plain": [
       "        category                                           headline  \\\n",
       "0          crime  There Were 2 Mass Shootings In Texas Last Week...   \n",
       "1  entertainment  Will Smith Joins Diplo And Nicky Jam For The 2...   \n",
       "2  entertainment    Hugh Grant Marries For The First Time At Age 57   \n",
       "3  entertainment  Jim Carrey Blasts 'Castrato' Adam Schiff And D...   \n",
       "4  entertainment  Julianna Margulies Uses Donald Trump Poop Bags...   \n",
       "\n",
       "                                   short_description  \\\n",
       "0  She left her husband. He killed their children...   \n",
       "1                           Of course it has a song.   \n",
       "2  The actor and his longtime girlfriend Anna Ebe...   \n",
       "3  The actor gives Dems an ass-kicking for not fi...   \n",
       "4  The \"Dietland\" actress said using the bags is ...   \n",
       "\n",
       "                                                text  \n",
       "0  DENTON, Texas â€• Amanda Painter sat at the ki...  \n",
       "1  The 2018 FIFA World Cup starts June 14 in Russ...  \n",
       "2  Love actually turned to matrimony for Hugh Gra...  \n",
       "3  Rep. Adam Schiff (D-Calif.) and fellow Democra...  \n",
       "4  Actress Julianna Margulies unleashed her funny...  "
      ]
     },
     "execution_count": 12,
     "metadata": {},
     "output_type": "execute_result"
    }
   ],
   "source": [
    "raw = pd.read_csv('news_category_dataset_v2.csv')\n",
    "raw.head()"
   ]
  },
  {
   "cell_type": "markdown",
   "id": "754943bb-f916-4e84-a5b9-e5900adde79c",
   "metadata": {},
   "source": [
    "Distribution of category:"
   ]
  },
  {
   "cell_type": "code",
   "execution_count": 13,
   "id": "220d533f-2f16-4a1e-866b-7eea4a70214c",
   "metadata": {},
   "outputs": [
    {
     "data": {
      "text/plain": [
       "politics         33616\n",
       "entertainment    28966\n",
       "lifestyle        25136\n",
       "wellness         17828\n",
       "fashion          15393\n",
       "other            14966\n",
       "opinion          11972\n",
       "travel            9927\n",
       "business          9657\n",
       "world news        8419\n",
       "culinary          8345\n",
       "sports            4884\n",
       "tech              4801\n",
       "environment       4090\n",
       "crime             3618\n",
       "economy           2690\n",
       "religion          2556\n",
       "science           2215\n",
       "education         2200\n",
       "sport              712\n",
       "Name: category, dtype: int64"
      ]
     },
     "execution_count": 13,
     "metadata": {},
     "output_type": "execute_result"
    }
   ],
   "source": [
    "raw.category.value_counts()"
   ]
  },
  {
   "cell_type": "markdown",
   "id": "87f33b8d-ba8d-415a-839c-b6663c2a5aaf",
   "metadata": {},
   "source": [
    "## Data Cleaning\n",
    "Fill the null values with space and merge headline, short description, and text columns"
   ]
  },
  {
   "cell_type": "code",
   "execution_count": 14,
   "id": "b2efd4cb-4d44-42d5-9063-5b19b20d8741",
   "metadata": {},
   "outputs": [],
   "source": [
    "raw = raw.fillna(' ')\n",
    "raw['content'] = raw.headline + ' ' + raw.short_description + ' ' + raw.text\n",
    "cln = raw[['category','content']]"
   ]
  },
  {
   "cell_type": "markdown",
   "id": "ac759e2b-5f17-41ee-8d91-d8acb080855d",
   "metadata": {},
   "source": [
    "## Data Preprocessing"
   ]
  },
  {
   "cell_type": "code",
   "execution_count": 15,
   "id": "b849734d-b7f3-4dd5-b5df-d2169cc59212",
   "metadata": {},
   "outputs": [],
   "source": [
    "x = cln.content.str.lower()\n",
    "y = cln.category.str.lower()\n",
    "\n",
    "cat = len(y.unique())\n",
    "\n",
    "enc = preprocessing.LabelBinarizer()\n",
    "yt = enc.fit_transform(y)"
   ]
  },
  {
   "cell_type": "markdown",
   "id": "435d76aa-d9f1-44d4-8c73-33720cd16801",
   "metadata": {},
   "source": [
    "### Keyword extraction"
   ]
  },
  {
   "cell_type": "code",
   "execution_count": 10,
   "id": "6e89ed37-af62-4246-a41e-0275309043fe",
   "metadata": {},
   "outputs": [
    {
     "name": "stdout",
     "output_type": "stream",
     "text": [
      "Wall time: 19min 31s\n"
     ]
    }
   ],
   "source": [
    "%%time\n",
    "invec = 10\n",
    "kwe = KeywordExtractor(n=1, top=invec, stopwords=stop_words)\n",
    "z = []\n",
    "for j in range(len(x)):\n",
    "    keywords = kwe.extract_keywords(text=x[j])\n",
    "    z.append([x for x,y in keywords])"
   ]
  },
  {
   "cell_type": "markdown",
   "id": "0bfd21b0-618d-4bf6-b952-3efe5efa1b78",
   "metadata": {},
   "source": [
    "### Word vectorization"
   ]
  },
  {
   "cell_type": "code",
   "execution_count": 11,
   "id": "4ac9fa84-578e-45d5-801a-492d9cb63e68",
   "metadata": {},
   "outputs": [
    {
     "name": "stdout",
     "output_type": "stream",
     "text": [
      "Number of words : 44054\n",
      "Wall time: 6.61 s\n"
     ]
    }
   ],
   "source": [
    "%%time\n",
    "outvec = 150\n",
    "# learn word vectors\n",
    "w2v_model = gensim.models.Word2Vec(sentences=z, vector_size=outvec, min_count=2, workers=4)\n",
    "w2v_model.save('m2p2.wordvectors')\n",
    "\n",
    "# keep keyvector, delete model\n",
    "wv = w2v_model.wv\n",
    "del(w2v_model)\n",
    "\n",
    "# number of words library\n",
    "print('Number of words :',len(wv))"
   ]
  },
  {
   "cell_type": "markdown",
   "id": "5508366a-e985-40a0-8be1-b3c3f1467df0",
   "metadata": {},
   "source": [
    "### Words to numbers"
   ]
  },
  {
   "cell_type": "code",
   "execution_count": 12,
   "id": "a3526a11-d184-4b2a-860b-f20237c6beb5",
   "metadata": {},
   "outputs": [
    {
     "name": "stdout",
     "output_type": "stream",
     "text": [
      "trump -> 1\n",
      "new -> 2\n",
      "photos -> 3\n",
      "one -> 4\n",
      "people -> 5\n"
     ]
    }
   ],
   "source": [
    "tkn = keras.preprocessing.text.Tokenizer()\n",
    "tkn.fit_on_texts(z)\n",
    "\n",
    "xt = tkn.texts_to_sequences(z)\n",
    "\n",
    "win = tkn.word_index\n",
    "for word, num in win.items():\n",
    "    print(f\"{word} -> {num}\")\n",
    "    if num == 5:\n",
    "        break"
   ]
  },
  {
   "cell_type": "markdown",
   "id": "d759d12b-c374-42f5-b504-59f2656f4dde",
   "metadata": {},
   "source": [
    "### Word weights"
   ]
  },
  {
   "cell_type": "code",
   "execution_count": 14,
   "id": "9f5938e5-c180-488d-b2e4-b6d82c06bbf3",
   "metadata": {},
   "outputs": [],
   "source": [
    "vocab_size = len(win) + 1\n",
    "\n",
    "def get_weight_matrix(model, vocab):\n",
    "    vocab_size = len(vocab) + 1\n",
    "    weight_matrix = np.zeros((vocab_size, outvec))\n",
    "    for word, i in vocab.items():\n",
    "        if word not in model:\n",
    "            weight_matrix[i] = 0\n",
    "        else:\n",
    "            weight_matrix[i] = model[word]\n",
    "    return weight_matrix\n",
    "\n",
    "emvec = get_weight_matrix(wv, win)"
   ]
  },
  {
   "cell_type": "markdown",
   "id": "8e686dfc-e411-4261-b9ac-ee89dd7da4f3",
   "metadata": {},
   "source": [
    "## Model definition"
   ]
  },
  {
   "cell_type": "code",
   "execution_count": 154,
   "id": "a3c593df-2815-42ae-a085-00a8ed52c5e5",
   "metadata": {},
   "outputs": [
    {
     "name": "stdout",
     "output_type": "stream",
     "text": [
      "Model: \"sequential\"\n",
      "_________________________________________________________________\n",
      "Layer (type)                 Output Shape              Param #   \n",
      "=================================================================\n",
      "embedding (Embedding)        (None, 10, 150)           12660600  \n",
      "_________________________________________________________________\n",
      "lstm (LSTM)                  (None, 10, 64)            55040     \n",
      "_________________________________________________________________\n",
      "dropout (Dropout)            (None, 10, 64)            0         \n",
      "_________________________________________________________________\n",
      "lstm_1 (LSTM)                (None, 64)                33024     \n",
      "_________________________________________________________________\n",
      "dropout_1 (Dropout)          (None, 64)                0         \n",
      "_________________________________________________________________\n",
      "dense (Dense)                (None, 41)                2665      \n",
      "=================================================================\n",
      "Total params: 12,751,329\n",
      "Trainable params: 90,729\n",
      "Non-trainable params: 12,660,600\n",
      "_________________________________________________________________\n"
     ]
    }
   ],
   "source": [
    "tf.keras.backend.clear_session()\n",
    "mod1 = keras.models.Sequential()\n",
    "mod1.add(keras.layers.Embedding(vocab_size, output_dim=outvec, weights=[emvec], input_length=invec, trainable=False))\n",
    "mod1.add(keras.layers.LSTM(units=64, return_sequences=True))\n",
    "mod1.add(keras.layers.Dropout(0.2))\n",
    "mod1.add(keras.layers.LSTM(units=64))\n",
    "mod1.add(keras.layers.Dropout(0.2))\n",
    "mod1.add(keras.layers.Dense(cat, activation='softmax'))\n",
    "mod1.compile(optimizer=keras.optimizers.Adam(0.005), loss='categorical_crossentropy', metrics=[keras.metrics.Precision()])\n",
    "\n",
    "cb = keras.callbacks.EarlyStopping(monitor='loss', patience=10, restore_best_weights=True)\n",
    "\n",
    "mod1.summary()"
   ]
  },
  {
   "cell_type": "markdown",
   "id": "1f7d2832-4388-4a18-bb7c-209c943eae9d",
   "metadata": {},
   "source": [
    "## Model training"
   ]
  },
  {
   "cell_type": "code",
   "execution_count": 155,
   "id": "7d82fdb7-967b-4cf9-b795-8bdf4a2e8445",
   "metadata": {},
   "outputs": [
    {
     "name": "stdout",
     "output_type": "stream",
     "text": [
      "Wall time: 44min 25s\n"
     ]
    }
   ],
   "source": [
    "%%time\n",
    "hist1 = mod1.fit(xt,yt,batch_size=6000,epochs=500,callbacks=[cb],verbose=0)"
   ]
  },
  {
   "cell_type": "markdown",
   "id": "cfc5a861-9fe4-48fa-a969-1f3adb789b22",
   "metadata": {},
   "source": [
    "## Model Evaluation"
   ]
  },
  {
   "cell_type": "code",
   "execution_count": 159,
   "id": "e8e96920-ffa1-419b-a62e-e3f6f5cdf7c6",
   "metadata": {},
   "outputs": [
    {
     "data": {
      "image/png": "[encoded data removed]",
      "text/plain": [
       "<Figure size 1080x360 with 2 Axes>"
      ]
     },
     "metadata": {
      "needs_background": "light"
     },
     "output_type": "display_data"
    }
   ],
   "source": [
    "plt.figure(figsize=(15,5))\n",
    "plt.subplot(1,2,1)\n",
    "plt.title('Precision')\n",
    "plt.plot(hist1.history['precision'], label='precision')\n",
    "plt.xlabel('epoch')\n",
    "plt.legend(loc='best')\n",
    "plt.subplot(1,2,2)\n",
    "plt.title('Loss')\n",
    "plt.plot(hist1.history['loss'], label='loss')\n",
    "plt.xlabel('epoch')\n",
    "plt.legend(loc='best')\n",
    "plt.show()"
   ]
  },
  {
   "cell_type": "markdown",
   "id": "c95c21ed-cee7-4136-b30a-f1d7887a4d17",
   "metadata": {},
   "source": [
    "Save the model"
   ]
  },
  {
   "cell_type": "code",
   "execution_count": 158,
   "id": "be4fd642-3aa7-40c9-b926-48639566c77b",
   "metadata": {},
   "outputs": [],
   "source": [
    "mod1.save('test_1.h5')"
   ]
  },
  {
   "cell_type": "markdown",
   "id": "7dca3c5b-d969-4f82-a620-c29ce3b87e7c",
   "metadata": {},
   "source": [
    "## Model Inference"
   ]
  },
  {
   "cell_type": "code",
   "execution_count": 25,
   "id": "bd050dbd-0da0-4e6e-a1bb-8833bb239eed",
   "metadata": {},
   "outputs": [
    {
     "name": "stdout",
     "output_type": "stream",
     "text": [
      "Keywords from text: [['learning', 'artificial', 'intelligence', 'oceanography', 'smartphones', 'games', 'expert', 'computers', 'tasks', 'based']]\n",
      "[(45.349392, 'healthy living'), (25.16079, 'wellness'), (8.848903, 'parenting')]\n"
     ]
    }
   ],
   "source": [
    "infer = \"ARTIFICIAL INTELLIGENCE BASED OCEANOGRAPHY AI Oceanography : The fourth industrial revolution comes in the form of oceanographic science Artificial Intelligence : In 2020 the term is practically inescapable. From self-driving cars to AI-enabled smartphones; The explosion in the functioning and trading of AI games, expert game-playing computers, machine learning techniques for an endless variety of tasks. Led by companies such as Amazon, Google, Apple and Samsung, companies around the world are revolutionizing their businesses, with recent developments in deep learning (large neural network) algorithms and a steady decline in computing power. Scientists in many disciplines are at the forefront of finding new ways to exploit powerful model-detection and statistical reasoning enabled by modern AI. In Life Sciences, AI provides insights into the human genome, predicts cancer development, and accelerates drug discovery at an unprecedented place. In the earth sciences, AI improves atmospheric and environmental time series by representing missing data and integrating conflicting observations, correcting bias, and building better models of attendance than previously possible. Do you want to where Artificial Intelligence is used in our daily life,apart from oceanography, thenâ€¦. The long-standing and uninterrupted geological research question of when and when the next major earthquake will occur, for the first time, maybe soluble using neural networks. The promise of machine learning s\"\n",
    "infer = infer.lower()\n",
    "keywords = kwe.extract_keywords(text=infer)\n",
    "k = [[x for x,y in keywords]]\n",
    "print('Keywords from text:',k)\n",
    "kin = tkn.texts_to_sequences(k)\n",
    "kou = keras.preprocessing.sequence.pad_sequences(kin, maxlen=invec)\n",
    "kpr = mod1.predict(kou)\n",
    "print(sorted(zip(kpr[0]*100,enc.classes_), reverse=True)[:3])"
   ]
  }
 ],
 "metadata": {
  "kernelspec": {
   "display_name": "Python 3 (ipykernel)",
   "language": "python",
   "name": "python3"
  },
  "language_info": {
   "codemirror_mode": {
    "name": "ipython",
    "version": 3
   },
   "file_extension": ".py",
   "mimetype": "text/x-python",
   "name": "python",
   "nbconvert_exporter": "python",
   "pygments_lexer": "ipython3",
   "version": "3.8.11"
  },
  "toc-autonumbering": false
 },
 "nbformat": 4,
 "nbformat_minor": 5
}
