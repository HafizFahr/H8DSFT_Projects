{
 "cells": [
  {
   "cell_type": "markdown",
   "id": "2d7c6c7c-705b-43e8-9e86-650c3f5c5a8f",
   "metadata": {},
   "source": [
    "# Category Recommendation System Using RNN\n",
    "**Author: Hafiz Fahrurrozi**\n",
    "\n",
    "Text classification is crucial along with growing size of articles on the web. Sometimes the would-be-reader are having difficulties finding relevant article by category. To help writers and readers alike, we create a simple category recommendation model using Recurrent Neural Network.\n",
    "\n",
    "The dataset used is taken from kaggle:\n",
    " - MIND: Microsoft News Recommendation Dataset ([kaggle](https://www.kaggle.com/arashnic/mind-news-dataset))\n",
    " - News Categorization Dataset ([kaggle](https://www.kaggle.com/rmisra/news-category-dataset))\n",
    " - BBC News Archive ([kaggle](https://www.kaggle.com/hgultekin/bbcnewsarchive))\n",
    " - BBC articles fulltext and category ([kaggle](https://www.kaggle.com/yufengdev/bbc-fulltext-and-category))"
   ]
  },
  {
   "cell_type": "code",
   "execution_count": 1,
   "id": "b6ae2b72-cb10-422a-a1b5-1f90fb8805ef",
   "metadata": {},
   "outputs": [],
   "source": [
    "import numpy as np\n",
    "import pandas as pd\n",
    "import matplotlib.pyplot as plt\n",
    "import seaborn as sns\n",
    "import nltk, re, gensim\n",
    "from yake import KeywordExtractor\n",
    "import tensorflow as tf\n",
    "from tensorflow import keras\n",
    "from sklearn import metrics, model_selection, preprocessing"
   ]
  },
  {
   "cell_type": "code",
   "execution_count": 2,
   "id": "25aac910-2bbf-4d1a-95ac-2a0ae1209003",
   "metadata": {},
   "outputs": [],
   "source": [
    "%load_ext Cython"
   ]
  },
  {
   "cell_type": "code",
   "execution_count": 3,
   "id": "82fdde09-4c5d-43b1-9942-e41ad82bb6cb",
   "metadata": {},
   "outputs": [],
   "source": [
    "gpu_devices = tf.config.experimental.list_physical_devices(\"GPU\")\n",
    "for device in gpu_devices:\n",
    "    tf.config.experimental.set_memory_growth(device, True)"
   ]
  },
  {
   "cell_type": "code",
   "execution_count": 4,
   "id": "6975ceac-39d1-4a7b-bcc1-1ab69db2c628",
   "metadata": {},
   "outputs": [
    {
     "name": "stderr",
     "output_type": "stream",
     "text": [
      "[nltk_data] Downloading package stopwords to\n",
      "[nltk_data]     C:\\Users\\Asus\\AppData\\Roaming\\nltk_data...\n",
      "[nltk_data]   Package stopwords is already up-to-date!\n"
     ]
    }
   ],
   "source": [
    "nltk.download('stopwords')\n",
    "\n",
    "stop_words = set(nltk.corpus.stopwords.words('english'))"
   ]
  },
  {
   "cell_type": "code",
   "execution_count": 5,
   "id": "e7743e6d-741b-484a-8e7e-905b972cc463",
   "metadata": {},
   "outputs": [
    {
     "data": {
      "text/html": [
       "<div>\n",
       "<style scoped>\n",
       "    .dataframe tbody tr th:only-of-type {\n",
       "        vertical-align: middle;\n",
       "    }\n",
       "\n",
       "    .dataframe tbody tr th {\n",
       "        vertical-align: top;\n",
       "    }\n",
       "\n",
       "    .dataframe thead th {\n",
       "        text-align: right;\n",
       "    }\n",
       "</style>\n",
       "<table border=\"1\" class=\"dataframe\">\n",
       "  <thead>\n",
       "    <tr style=\"text-align: right;\">\n",
       "      <th></th>\n",
       "      <th>category</th>\n",
       "      <th>headline</th>\n",
       "      <th>short_description</th>\n",
       "      <th>text</th>\n",
       "    </tr>\n",
       "  </thead>\n",
       "  <tbody>\n",
       "    <tr>\n",
       "      <th>0</th>\n",
       "      <td>crime</td>\n",
       "      <td>There Were 2 Mass Shootings In Texas Last Week...</td>\n",
       "      <td>She left her husband. He killed their children...</td>\n",
       "      <td>DENTON, Texas â€• Amanda Painter sat at the ki...</td>\n",
       "    </tr>\n",
       "    <tr>\n",
       "      <th>1</th>\n",
       "      <td>entertainment</td>\n",
       "      <td>Will Smith Joins Diplo And Nicky Jam For The 2...</td>\n",
       "      <td>Of course it has a song.</td>\n",
       "      <td>The 2018 FIFA World Cup starts June 14 in Russ...</td>\n",
       "    </tr>\n",
       "    <tr>\n",
       "      <th>2</th>\n",
       "      <td>entertainment</td>\n",
       "      <td>Hugh Grant Marries For The First Time At Age 57</td>\n",
       "      <td>The actor and his longtime girlfriend Anna Ebe...</td>\n",
       "      <td>Love actually turned to matrimony for Hugh Gra...</td>\n",
       "    </tr>\n",
       "    <tr>\n",
       "      <th>3</th>\n",
       "      <td>entertainment</td>\n",
       "      <td>Jim Carrey Blasts 'Castrato' Adam Schiff And D...</td>\n",
       "      <td>The actor gives Dems an ass-kicking for not fi...</td>\n",
       "      <td>Rep. Adam Schiff (D-Calif.) and fellow Democra...</td>\n",
       "    </tr>\n",
       "    <tr>\n",
       "      <th>4</th>\n",
       "      <td>entertainment</td>\n",
       "      <td>Julianna Margulies Uses Donald Trump Poop Bags...</td>\n",
       "      <td>The \"Dietland\" actress said using the bags is ...</td>\n",
       "      <td>Actress Julianna Margulies unleashed her funny...</td>\n",
       "    </tr>\n",
       "  </tbody>\n",
       "</table>\n",
       "</div>"
      ],
      "text/plain": [
       "        category                                           headline  \\\n",
       "0          crime  There Were 2 Mass Shootings In Texas Last Week...   \n",
       "1  entertainment  Will Smith Joins Diplo And Nicky Jam For The 2...   \n",
       "2  entertainment    Hugh Grant Marries For The First Time At Age 57   \n",
       "3  entertainment  Jim Carrey Blasts 'Castrato' Adam Schiff And D...   \n",
       "4  entertainment  Julianna Margulies Uses Donald Trump Poop Bags...   \n",
       "\n",
       "                                   short_description  \\\n",
       "0  She left her husband. He killed their children...   \n",
       "1                           Of course it has a song.   \n",
       "2  The actor and his longtime girlfriend Anna Ebe...   \n",
       "3  The actor gives Dems an ass-kicking for not fi...   \n",
       "4  The \"Dietland\" actress said using the bags is ...   \n",
       "\n",
       "                                                text  \n",
       "0  DENTON, Texas â€• Amanda Painter sat at the ki...  \n",
       "1  The 2018 FIFA World Cup starts June 14 in Russ...  \n",
       "2  Love actually turned to matrimony for Hugh Gra...  \n",
       "3  Rep. Adam Schiff (D-Calif.) and fellow Democra...  \n",
       "4  Actress Julianna Margulies unleashed her funny...  "
      ]
     },
     "execution_count": 5,
     "metadata": {},
     "output_type": "execute_result"
    }
   ],
   "source": [
    "raw = pd.read_csv('news_category_dataset_v2.csv')\n",
    "raw.head()"
   ]
  },
  {
   "cell_type": "code",
   "execution_count": 6,
   "id": "069ce9b8-5a62-4f82-85f0-8e365e22f968",
   "metadata": {},
   "outputs": [
    {
     "data": {
      "text/plain": [
       "lifestyle        20052\n",
       "politics         19150\n",
       "entertainment    18803\n",
       "wellness         17828\n",
       "fashion          15393\n",
       "other            14966\n",
       "sport            13123\n",
       "economy          12347\n",
       "opinion          11972\n",
       "travel            9927\n",
       "world news        8419\n",
       "culinary          8345\n",
       "tech              4801\n",
       "environment       4092\n",
       "crime             3618\n",
       "religion          2556\n",
       "science           2215\n",
       "education         2200\n",
       "Name: category, dtype: int64"
      ]
     },
     "execution_count": 6,
     "metadata": {},
     "output_type": "execute_result"
    }
   ],
   "source": [
    "raw.category.value_counts()"
   ]
  },
  {
   "cell_type": "code",
   "execution_count": 7,
   "id": "b2efd4cb-4d44-42d5-9063-5b19b20d8741",
   "metadata": {},
   "outputs": [],
   "source": [
    "raw = raw.fillna(' ')\n",
    "raw['content'] = raw.headline + '. ' + raw.short_description + ' ' + raw.text\n",
    "cln = raw[['category','content']]"
   ]
  },
  {
   "cell_type": "code",
   "execution_count": 8,
   "id": "b849734d-b7f3-4dd5-b5df-d2169cc59212",
   "metadata": {},
   "outputs": [],
   "source": [
    "# separate features from target\n",
    "x = cln.content.str.lower()\n",
    "y = cln.category.str.lower()\n",
    "\n",
    "# encode target categories\n",
    "enc = preprocessing.LabelBinarizer()\n",
    "yt = enc.fit_transform(y)"
   ]
  },
  {
   "cell_type": "code",
   "execution_count": 9,
   "id": "6e89ed37-af62-4246-a41e-0275309043fe",
   "metadata": {
    "tags": []
   },
   "outputs": [
    {
     "name": "stdout",
     "output_type": "stream",
     "text": [
      "Number of words : 46335\n",
      "trump -> 1\n",
      "new -> 2\n",
      "photos -> 3\n",
      "one -> 4\n",
      "people -> 5\n",
      "Wall time: 23min 43s\n"
     ]
    }
   ],
   "source": [
    "%%time\n",
    "# set input vector and output vector for word-to-vector models and LSTM model\n",
    "invec = 10\n",
    "outvec = 150\n",
    "cat = len(y.unique())\n",
    "\n",
    "# extract keywords from documents\n",
    "kwe1 = KeywordExtractor(n=1, top=invec, stopwords=stop_words)\n",
    "z = []\n",
    "for j in range(len(x)):\n",
    "    keywords = kwe1.extract_keywords(text=x[j])\n",
    "    z.append([x for x,y in keywords])\n",
    "\n",
    "# learn word vectors\n",
    "w2v_model = gensim.models.Word2Vec(sentences=z, vector_size=outvec, min_count=2, workers=4)\n",
    "w2v_model.save('mod1.wordvectors')\n",
    "\n",
    "# keep keyvector, delete model\n",
    "wv = w2v_model.wv\n",
    "del(w2v_model)\n",
    "\n",
    "# number of words library\n",
    "print('Number of words :',len(wv))\n",
    "\n",
    "# tokenize keywords to numbers\n",
    "tkn = keras.preprocessing.text.Tokenizer()\n",
    "tkn.fit_on_texts(z)\n",
    "xt = tkn.texts_to_sequences(z)\n",
    "\n",
    "# print examples\n",
    "win = tkn.word_index\n",
    "for word, num in win.items():\n",
    "    print(f\"{word} -> {num}\")\n",
    "    if num == 5:\n",
    "        break\n",
    "\n",
    "# set number of units in word-to-vector layer\n",
    "vocab_size = len(win) + 1\n",
    "\n",
    "# function to get weight matrix from word2vec gensim model\n",
    "def get_weight_matrix(model, vocab):\n",
    "    vocab_size = len(vocab) + 1\n",
    "    weight_matrix = np.zeros((vocab_size, outvec))\n",
    "    for word, i in vocab.items():\n",
    "        if word not in model:\n",
    "            weight_matrix[i] = 0\n",
    "        else:\n",
    "            weight_matrix[i] = model[word]\n",
    "    return weight_matrix\n",
    "\n",
    "# store the weights inside a variable\n",
    "emvec = get_weight_matrix(wv, win)\n",
    "\n",
    "# pad sentences shorter than input vector\n",
    "# also trims sentences longer than input vector\n",
    "xto = keras.preprocessing.sequence.pad_sequences(xt, maxlen=invec)"
   ]
  },
  {
   "cell_type": "code",
   "execution_count": 26,
   "id": "a3c593df-2815-42ae-a085-00a8ed52c5e5",
   "metadata": {},
   "outputs": [
    {
     "name": "stdout",
     "output_type": "stream",
     "text": [
      "Model: \"sequential\"\n",
      "_________________________________________________________________\n",
      "Layer (type)                 Output Shape              Param #   \n",
      "=================================================================\n",
      "embedding (Embedding)        (None, 10, 150)           13661700  \n",
      "_________________________________________________________________\n",
      "lstm (LSTM)                  (None, 10, 64)            55040     \n",
      "_________________________________________________________________\n",
      "dropout (Dropout)            (None, 10, 64)            0         \n",
      "_________________________________________________________________\n",
      "lstm_1 (LSTM)                (None, 64)                33024     \n",
      "_________________________________________________________________\n",
      "dropout_1 (Dropout)          (None, 64)                0         \n",
      "_________________________________________________________________\n",
      "dense (Dense)                (None, 18)                1170      \n",
      "=================================================================\n",
      "Total params: 13,750,934\n",
      "Trainable params: 89,234\n",
      "Non-trainable params: 13,661,700\n",
      "_________________________________________________________________\n"
     ]
    }
   ],
   "source": [
    "# declare model\n",
    "tf.keras.backend.clear_session()\n",
    "mod1 = keras.models.Sequential()\n",
    "# embed the word2vec layer\n",
    "mod1.add(keras.layers.Embedding(vocab_size, output_dim=outvec, weights=[emvec], input_length=invec, trainable=False))\n",
    "# use double stack LSTM with dropouts in between\n",
    "mod1.add(keras.layers.LSTM(units=64, return_sequences=True))\n",
    "mod1.add(keras.layers.Dropout(0.2))\n",
    "mod1.add(keras.layers.LSTM(units=64))\n",
    "mod1.add(keras.layers.Dropout(0.2))\n",
    "# classify using dense layer with softmax activation\n",
    "mod1.add(keras.layers.Dense(cat, activation='softmax'))\n",
    "mod1.compile(optimizer=keras.optimizers.Adam(0.001), loss='categorical_crossentropy', metrics=[keras.metrics.Precision()])\n",
    "\n",
    "# use early stopping to prevent worsening on model training\n",
    "cb = keras.callbacks.EarlyStopping(monitor='val_loss', patience=30, restore_best_weights=True)\n",
    "\n",
    "# print model summary\n",
    "mod1.summary()"
   ]
  },
  {
   "cell_type": "code",
   "execution_count": 27,
   "id": "7d82fdb7-967b-4cf9-b795-8bdf4a2e8445",
   "metadata": {},
   "outputs": [
    {
     "name": "stdout",
     "output_type": "stream",
     "text": [
      "Wall time: 8min 47s\n"
     ]
    }
   ],
   "source": [
    "%%time\n",
    "# train the model on the dataset\n",
    "hist1 = mod1.fit(xto,yt,validation_split=0.2,batch_size=6000,epochs=500,callbacks=[cb],verbose=0)"
   ]
  },
  {
   "cell_type": "code",
   "execution_count": 28,
   "id": "e8e96920-ffa1-419b-a62e-e3f6f5cdf7c6",
   "metadata": {},
   "outputs": [
    {
     "data": {
      "image/png": "[encoded data removed]",
      "text/plain": [
       "<Figure size 1152x432 with 2 Axes>"
      ]
     },
     "metadata": {
      "needs_background": "light"
     },
     "output_type": "display_data"
    }
   ],
   "source": [
    "# visualize precision and loss on model training\n",
    "plt.figure(figsize=(16,6))\n",
    "plt.suptitle('Monogram Model')\n",
    "plt.subplot(1,2,1)\n",
    "plt.title('Precision')\n",
    "plt.plot(hist1.history['val_precision'], 'b-', label='validation precision')\n",
    "plt.plot(hist1.history['precision'], 'r-', label='training precision')\n",
    "plt.xlabel('epoch')\n",
    "plt.legend(loc='best')\n",
    "plt.subplot(1,2,2)\n",
    "plt.title('Loss')\n",
    "plt.plot(hist1.history['val_loss'], 'b-', label='validation loss')\n",
    "plt.plot(hist1.history['loss'], 'r-', label='training loss')\n",
    "plt.xlabel('epoch')\n",
    "plt.legend(loc='best')\n",
    "plt.show()"
   ]
  },
  {
   "cell_type": "code",
   "execution_count": 29,
   "id": "47449dab-6398-4861-99a6-5b81a75d9fbc",
   "metadata": {},
   "outputs": [
    {
     "name": "stdout",
     "output_type": "stream",
     "text": [
      "0.74516\n",
      "0.74892\n",
      "1.30498\n",
      "1.47627\n"
     ]
    }
   ],
   "source": [
    "print('{:.5f}'.format(hist1.history['precision'][-30]))\n",
    "print('{:.5f}'.format(hist1.history['val_precision'][-30]))\n",
    "print('{:.5f}'.format(hist1.history['loss'][-30]))\n",
    "print('{:.5f}'.format(hist1.history['val_loss'][-30]))"
   ]
  },
  {
   "cell_type": "code",
   "execution_count": 35,
   "id": "be4fd642-3aa7-40c9-b926-48639566c77b",
   "metadata": {},
   "outputs": [],
   "source": [
    "# save the model, for sanity purposes\n",
    "mod1.save('lstm.h5')"
   ]
  },
  {
   "cell_type": "code",
   "execution_count": 33,
   "id": "72e91651-eefd-48bc-9bb1-cf3d6f13ac51",
   "metadata": {},
   "outputs": [
    {
     "name": "stdout",
     "output_type": "stream",
     "text": [
      "<class 'pandas.core.frame.DataFrame'>\n",
      "RangeIndex: 88 entries, 0 to 87\n",
      "Data columns (total 4 columns):\n",
      " #   Column         Non-Null Count  Dtype  \n",
      "---  ------         --------------  -----  \n",
      " 0   loss           88 non-null     float64\n",
      " 1   precision      88 non-null     float64\n",
      " 2   val_loss       88 non-null     float64\n",
      " 3   val_precision  88 non-null     float64\n",
      "dtypes: float64(4)\n",
      "memory usage: 2.9 KB\n"
     ]
    }
   ],
   "source": [
    "hist_df = pd.DataFrame(hist1.history)\n",
    "hist_df.info()"
   ]
  },
  {
   "cell_type": "code",
   "execution_count": 34,
   "id": "148273a1-efcb-4207-8573-7091dffc2f0a",
   "metadata": {},
   "outputs": [],
   "source": [
    "hist_df.to_csv('history.csv')"
   ]
  },
  {
   "cell_type": "markdown",
   "id": "5828cb65-c20b-4f10-841a-108137986bdf",
   "metadata": {},
   "source": [
    "## Model Inference\n",
    "Here we test the models with several latest news in three categories: lifestyle, economy, and religion"
   ]
  },
  {
   "cell_type": "code",
   "execution_count": 30,
   "id": "bd050dbd-0da0-4e6e-a1bb-8833bb239eed",
   "metadata": {},
   "outputs": [
    {
     "name": "stdout",
     "output_type": "stream",
     "text": [
      "Keywords from text:\n",
      "1 ['brain', 'gut', 'premature', 'immune', 'infants', 'development', 'bacteria', 'system', 'researchers', 'early']\n",
      "2 ['job', 'vacancies', 'million', 'said', 'august', 'record', 'ons', 'one', 'surge', 'past']\n",
      "3 ['world', 'pope', 'earth', 'cry', 'listen', 'climate', 'change', 'leaders', 'christians', 'joint']\n",
      "4 ['schools', 'disadvantaged', 'ascl', 'school', 'children', 'areas', 'places', 'admissions', 'attainment', 'gap']\n",
      "[(80.17418, 'wellness'), (16.981907, 'lifestyle'), (1.7784702, 'science')]\n",
      "[(21.51821, 'world news'), (19.678133, 'economy'), (13.069577, 'entertainment')]\n",
      "[(35.6582, 'world news'), (32.649563, 'environment'), (14.386232, 'religion')]\n",
      "[(23.701004, 'education'), (21.262138, 'other'), (14.625457, 'politics')]\n"
     ]
    }
   ],
   "source": [
    "infer = [\n",
    "    \"Gut bacteria influence brain development. Researchers discover biomarkers that indicate early brain injury in extreme premature infants. Extremely premature infants are at a high risk for brain damage. Researchers have now found possible targets for the early treatment of such damage outside the brain: Bacteria in the gut of premature infants may play a key role. The research team found that the overgrowth of the gastrointestinal tract with the bacterium Klebsiella is associated with an increased presence of certain immune cells and the development of neurological damage in premature babies. Complex interplay: the gut-immune-brain axis The early development of the gut, the brain and the immune system are closely interrelated. Researchers refer to this as the gut-immune-brain axis. Bacteria in the gut cooperate with the immune system, which in turn monitors gut microbes and develops appropriate responses to them. In addition, the gut is in contact with the brain via the vagus nerve as well as via the immune system. 'We investigated the role this axis plays in the brain development of extreme preterm infants,' says the first author of the study, David Seki. 'The microorganisms of the gut microbiome -- which is a vital collection of hundreds of species of bacteria, fungi, viruses and other microbes -- are in equilibrium in healthy people. However, especially in premature babies, whose immune system and microbiome have not been able to develop fully, shifts are quite likely to occur. These shifts may result in negative effects on the brain,' explains the microbiologist and immunologist.\",\n",
    "    \"Job vacancies surge past one million in new record. Job vacancies have hit a record high as the economic recovery continues, according to official figures. The number of vacancies in the three months to August rose above one million for the first time since records began in 2001. Figures also showed employee numbers were back at pre-Covid levels in August, the Office for National Statistics (ONS) said. August payrolls showed another monthly increase of 241,000 to 29.1 million. Business groups said, however, despite the return of staffing levels to pre-pandemic rates there remained high demand for more staff, and there was a risk labour shortages would dampen growth. The ONS deputy statistician, Jonathan Athow, said: 'Early estimates from payroll data suggest that in August the total number of employees is around the same level as before the pandemic, though our surveys show well over a million are still on furlough.' But Mr Athow pointed out that the recovery was not even, with areas such as London and sectors like hospitality and the arts still down. The ONS also cautioned that young people had been badly affected by job losses. 'The overall employment rate continues to recover, particularly among groups such as young workers who were hard hit at the outset of the pandemic, while unemployment has fallen,' he said. Overall, the unemployment rate fell from 4.7% to 4.6% in the three months to July.\",\n",
    "    \"Listen to the cry of the Earth': Pope, top Christians urge world leaders to act on climate change. Pope Francis, Archbishop of Canterbury Justin Welby and Orthodox Ecumenical Patriarch Bartholomew released their first joint statement ahead of a U.N. conference. The world's three main Christian leaders issued an unprecedented joint appeal to members of their Churches to 'listen to the cry of the Earth' and back action to stem the effects of climate change. In 'A Joint Message for the Protection of Creation,' Pope Francis, Archbishop of Canterbury Justin Welby and Orthodox Ecumenical Patriarch Bartholomew asked Christians to pray that world leaders at the United Nations Climate Change Conference (COP26) in Glasgow in November make courageous choices. 'We call on everyone, whatever their belief or world view, to endeavor to listen to the cry of the Earth and of people who are poor, examining their behavior and pledging meaningful sacrifices for the sake of the Earth which God has given us,' the message said. Francis heads the 1.3 billion-member Roman Catholic Church, Bartholomew is the spiritual leader of the world's some 220 million Orthodox Christians and Welby is the senior bishop of the worldwide Anglican Communion, which has about 85 million members.\",\n",
    "    \"Headteachers call for reform of school admissions to redress attainment gap. ASCL says proportion of places should be ringfenced for disadvantaged pupils outside catchment area. Headteachers have called for an overhaul of school admissions policies to prioritise places for children from disadvantaged backgrounds as a way of addressing the widening attainment gap between richer and poorer pupils. Under proposals put forward by the Association of School and College Leaders (ASCL), a proportion of places in oversubscribed schools in England could be ringfenced for disadvantaged pupils who live outside the catchment area. Within the current system, there is a similar requirement for children in care, but disadvantaged children lose out, according to ASCL, because their families cannot afford to live within the catchment areas of popular, high-performing schools in affluent neighbourhoods. Amid mounting concern about the disproportionate impact of the Covid pandemic on disadvantaged youngsters, ASCL wants the government to consider asking schools to prioritise places for children who are either eligible for the pupil premium additional funding for those on school meals, or those growing up in persistent poverty, in their oversubscription criteria. The proposal is one of a range of measures outlined in the ASCL report Blueprint for a Fairer Education System. The union acknowledged that any mechanism to bring about admissions changes would need to be carefully thought through, but insisted that bold ideas would be needed if the attainment gap was to be closed. Geoff Barton, general secretary of ASCL, said: “Middle-class parents have the buying power to afford homes in areas near popular schools that are rated as good or outstanding. 'There are, of course, many excellent schools in disadvantaged areas too, but the economics of property ownership mean that disadvantaged families don’t have the same access as middle-class parents to certain schools. This is an entrenched injustice which reinforces an unhealthy division between affluent and disadvantaged areas and children. We have to do more to support schools in challenging circumstances, so that there is a school rated as good or outstanding on every doorstep, but we must also see how we might provide parents and children from disadvantaged backgrounds with fairer access to popular schools in more affluent areas.' The president of ASCL, Pepe Di’Iasio, who is the head of Wales High School in South Yorkshire, welcomed the proposal. 'I do think it needs greater thought, greater clarity, but I do also think that we’ve all got admissions policies already in schools, so it’s about tweaking what we’ve already got to make sure that we recognise that poverty is a key factor.' He said: 'I think it’s fair to say that over the last 20 years we’ve seen a succession of governments try different initiatives and different strategies as part of a levelling-up agenda and to a large degree they’ve had little or no impact.' ASCL’s report, which is the culmination of two years of research, also proposes reducing the number of national assessments in primary schools. The union says exams could be modernised, with greater use of technology to personalise assessment, and would like to see a reduction in the number of end-of-course exams that GCSE students have to face.\"\n",
    "]\n",
    "\n",
    "k = []\n",
    "for j in range(len(infer)):\n",
    "    infer[j] = infer[j].lower()\n",
    "    keywords = kwe1.extract_keywords(text=infer[j])\n",
    "    k.append([x for x,y in keywords])\n",
    "\n",
    "print('Keywords from text:')\n",
    "for i in range(len(k)):\n",
    "    print(i+1, k[i])\n",
    "\n",
    "kin = tkn.texts_to_sequences(k)\n",
    "kou = keras.preprocessing.sequence.pad_sequences(kin, maxlen=invec)\n",
    "kpr = mod1.predict(kou)\n",
    "for j in range(len(kpr)):\n",
    "    print(sorted(zip(kpr[j]*100,enc.classes_), reverse=True)[:3])"
   ]
  }
 ],
 "metadata": {
  "kernelspec": {
   "display_name": "Python 3 (ipykernel)",
   "language": "python",
   "name": "python3"
  },
  "language_info": {
   "codemirror_mode": {
    "name": "ipython",
    "version": 3
   },
   "file_extension": ".py",
   "mimetype": "text/x-python",
   "name": "python",
   "nbconvert_exporter": "python",
   "pygments_lexer": "ipython3",
   "version": "3.8.11"
  },
  "toc-autonumbering": false
 },
 "nbformat": 4,
 "nbformat_minor": 5
}
