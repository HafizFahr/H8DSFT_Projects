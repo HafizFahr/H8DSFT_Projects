{
 "cells": [
  {
   "cell_type": "markdown",
   "id": "2d208364",
   "metadata": {},
   "source": [
    "# Milestone 1 - Supervised Learning\n",
    "**Author: Hafiz Fahrurrozi**\n",
    "\n",
    "Using a dataset from Banco de Portugal telemarketing effort (dataset available [here](https://archive.ics.uci.edu/ml/datasets/Bank+Marketing)), create a prediction using supervised machine learning models and evaluate their performance.\n",
    "\n",
    "## Import Library"
   ]
  },
  {
   "cell_type": "code",
   "execution_count": 1,
   "id": "ef7ddf81",
   "metadata": {},
   "outputs": [],
   "source": [
    "import pandas as pd\n",
    "import numpy as np\n",
    "import matplotlib.pyplot as plt\n",
    "import seaborn as sns\n",
    "from sklearn import (\n",
    "    preprocessing, model_selection, metrics, utils, feature_selection,\n",
    "    linear_model, tree, svm, ensemble, neighbors, naive_bayes)"
   ]
  },
  {
   "cell_type": "markdown",
   "id": "1d46e8f5",
   "metadata": {},
   "source": [
    "## Data Loading\n",
    "Load data from csv file using read_csv(). Since the delimiter is semi-colon (;) we specify it when calling the function."
   ]
  },
  {
   "cell_type": "code",
   "execution_count": 2,
   "id": "37396037",
   "metadata": {
    "tags": []
   },
   "outputs": [
    {
     "data": {
      "text/html": [
       "<div>\n",
       "<style scoped>\n",
       "    .dataframe tbody tr th:only-of-type {\n",
       "        vertical-align: middle;\n",
       "    }\n",
       "\n",
       "    .dataframe tbody tr th {\n",
       "        vertical-align: top;\n",
       "    }\n",
       "\n",
       "    .dataframe thead th {\n",
       "        text-align: right;\n",
       "    }\n",
       "</style>\n",
       "<table border=\"1\" class=\"dataframe\">\n",
       "  <thead>\n",
       "    <tr style=\"text-align: right;\">\n",
       "      <th></th>\n",
       "      <th>age</th>\n",
       "      <th>job</th>\n",
       "      <th>marital</th>\n",
       "      <th>education</th>\n",
       "      <th>default</th>\n",
       "      <th>housing</th>\n",
       "      <th>loan</th>\n",
       "      <th>contact</th>\n",
       "      <th>month</th>\n",
       "      <th>day_of_week</th>\n",
       "      <th>...</th>\n",
       "      <th>campaign</th>\n",
       "      <th>pdays</th>\n",
       "      <th>previous</th>\n",
       "      <th>poutcome</th>\n",
       "      <th>emp.var.rate</th>\n",
       "      <th>cons.price.idx</th>\n",
       "      <th>cons.conf.idx</th>\n",
       "      <th>euribor3m</th>\n",
       "      <th>nr.employed</th>\n",
       "      <th>y</th>\n",
       "    </tr>\n",
       "  </thead>\n",
       "  <tbody>\n",
       "    <tr>\n",
       "      <th>0</th>\n",
       "      <td>56</td>\n",
       "      <td>housemaid</td>\n",
       "      <td>married</td>\n",
       "      <td>basic.4y</td>\n",
       "      <td>no</td>\n",
       "      <td>no</td>\n",
       "      <td>no</td>\n",
       "      <td>telephone</td>\n",
       "      <td>may</td>\n",
       "      <td>mon</td>\n",
       "      <td>...</td>\n",
       "      <td>1</td>\n",
       "      <td>999</td>\n",
       "      <td>0</td>\n",
       "      <td>nonexistent</td>\n",
       "      <td>1.1</td>\n",
       "      <td>93.994</td>\n",
       "      <td>-36.4</td>\n",
       "      <td>4.857</td>\n",
       "      <td>5191.0</td>\n",
       "      <td>no</td>\n",
       "    </tr>\n",
       "    <tr>\n",
       "      <th>1</th>\n",
       "      <td>57</td>\n",
       "      <td>services</td>\n",
       "      <td>married</td>\n",
       "      <td>high.school</td>\n",
       "      <td>unknown</td>\n",
       "      <td>no</td>\n",
       "      <td>no</td>\n",
       "      <td>telephone</td>\n",
       "      <td>may</td>\n",
       "      <td>mon</td>\n",
       "      <td>...</td>\n",
       "      <td>1</td>\n",
       "      <td>999</td>\n",
       "      <td>0</td>\n",
       "      <td>nonexistent</td>\n",
       "      <td>1.1</td>\n",
       "      <td>93.994</td>\n",
       "      <td>-36.4</td>\n",
       "      <td>4.857</td>\n",
       "      <td>5191.0</td>\n",
       "      <td>no</td>\n",
       "    </tr>\n",
       "    <tr>\n",
       "      <th>2</th>\n",
       "      <td>37</td>\n",
       "      <td>services</td>\n",
       "      <td>married</td>\n",
       "      <td>high.school</td>\n",
       "      <td>no</td>\n",
       "      <td>yes</td>\n",
       "      <td>no</td>\n",
       "      <td>telephone</td>\n",
       "      <td>may</td>\n",
       "      <td>mon</td>\n",
       "      <td>...</td>\n",
       "      <td>1</td>\n",
       "      <td>999</td>\n",
       "      <td>0</td>\n",
       "      <td>nonexistent</td>\n",
       "      <td>1.1</td>\n",
       "      <td>93.994</td>\n",
       "      <td>-36.4</td>\n",
       "      <td>4.857</td>\n",
       "      <td>5191.0</td>\n",
       "      <td>no</td>\n",
       "    </tr>\n",
       "    <tr>\n",
       "      <th>3</th>\n",
       "      <td>40</td>\n",
       "      <td>admin.</td>\n",
       "      <td>married</td>\n",
       "      <td>basic.6y</td>\n",
       "      <td>no</td>\n",
       "      <td>no</td>\n",
       "      <td>no</td>\n",
       "      <td>telephone</td>\n",
       "      <td>may</td>\n",
       "      <td>mon</td>\n",
       "      <td>...</td>\n",
       "      <td>1</td>\n",
       "      <td>999</td>\n",
       "      <td>0</td>\n",
       "      <td>nonexistent</td>\n",
       "      <td>1.1</td>\n",
       "      <td>93.994</td>\n",
       "      <td>-36.4</td>\n",
       "      <td>4.857</td>\n",
       "      <td>5191.0</td>\n",
       "      <td>no</td>\n",
       "    </tr>\n",
       "    <tr>\n",
       "      <th>4</th>\n",
       "      <td>56</td>\n",
       "      <td>services</td>\n",
       "      <td>married</td>\n",
       "      <td>high.school</td>\n",
       "      <td>no</td>\n",
       "      <td>no</td>\n",
       "      <td>yes</td>\n",
       "      <td>telephone</td>\n",
       "      <td>may</td>\n",
       "      <td>mon</td>\n",
       "      <td>...</td>\n",
       "      <td>1</td>\n",
       "      <td>999</td>\n",
       "      <td>0</td>\n",
       "      <td>nonexistent</td>\n",
       "      <td>1.1</td>\n",
       "      <td>93.994</td>\n",
       "      <td>-36.4</td>\n",
       "      <td>4.857</td>\n",
       "      <td>5191.0</td>\n",
       "      <td>no</td>\n",
       "    </tr>\n",
       "  </tbody>\n",
       "</table>\n",
       "<p>5 rows × 21 columns</p>\n",
       "</div>"
      ],
      "text/plain": [
       "   age        job  marital    education  default housing loan    contact  \\\n",
       "0   56  housemaid  married     basic.4y       no      no   no  telephone   \n",
       "1   57   services  married  high.school  unknown      no   no  telephone   \n",
       "2   37   services  married  high.school       no     yes   no  telephone   \n",
       "3   40     admin.  married     basic.6y       no      no   no  telephone   \n",
       "4   56   services  married  high.school       no      no  yes  telephone   \n",
       "\n",
       "  month day_of_week  ...  campaign  pdays  previous     poutcome emp.var.rate  \\\n",
       "0   may         mon  ...         1    999         0  nonexistent          1.1   \n",
       "1   may         mon  ...         1    999         0  nonexistent          1.1   \n",
       "2   may         mon  ...         1    999         0  nonexistent          1.1   \n",
       "3   may         mon  ...         1    999         0  nonexistent          1.1   \n",
       "4   may         mon  ...         1    999         0  nonexistent          1.1   \n",
       "\n",
       "   cons.price.idx  cons.conf.idx  euribor3m  nr.employed   y  \n",
       "0          93.994          -36.4      4.857       5191.0  no  \n",
       "1          93.994          -36.4      4.857       5191.0  no  \n",
       "2          93.994          -36.4      4.857       5191.0  no  \n",
       "3          93.994          -36.4      4.857       5191.0  no  \n",
       "4          93.994          -36.4      4.857       5191.0  no  \n",
       "\n",
       "[5 rows x 21 columns]"
      ]
     },
     "execution_count": 2,
     "metadata": {},
     "output_type": "execute_result"
    }
   ],
   "source": [
    "raw = pd.read_csv('bank-additional-full.csv', delimiter=';')\n",
    "raw.head()"
   ]
  },
  {
   "cell_type": "markdown",
   "id": "bdf83f85",
   "metadata": {},
   "source": [
    "### Simple data exploration\n",
    "Simple data exploration using info() and describe() to see data range, null counts, column data types, and statistical data on numerical columns."
   ]
  },
  {
   "cell_type": "code",
   "execution_count": 3,
   "id": "054d7cf6",
   "metadata": {},
   "outputs": [
    {
     "name": "stdout",
     "output_type": "stream",
     "text": [
      "<class 'pandas.core.frame.DataFrame'>\n",
      "RangeIndex: 41188 entries, 0 to 41187\n",
      "Data columns (total 21 columns):\n",
      " #   Column          Non-Null Count  Dtype  \n",
      "---  ------          --------------  -----  \n",
      " 0   age             41188 non-null  int64  \n",
      " 1   job             41188 non-null  object \n",
      " 2   marital         41188 non-null  object \n",
      " 3   education       41188 non-null  object \n",
      " 4   default         41188 non-null  object \n",
      " 5   housing         41188 non-null  object \n",
      " 6   loan            41188 non-null  object \n",
      " 7   contact         41188 non-null  object \n",
      " 8   month           41188 non-null  object \n",
      " 9   day_of_week     41188 non-null  object \n",
      " 10  duration        41188 non-null  int64  \n",
      " 11  campaign        41188 non-null  int64  \n",
      " 12  pdays           41188 non-null  int64  \n",
      " 13  previous        41188 non-null  int64  \n",
      " 14  poutcome        41188 non-null  object \n",
      " 15  emp.var.rate    41188 non-null  float64\n",
      " 16  cons.price.idx  41188 non-null  float64\n",
      " 17  cons.conf.idx   41188 non-null  float64\n",
      " 18  euribor3m       41188 non-null  float64\n",
      " 19  nr.employed     41188 non-null  float64\n",
      " 20  y               41188 non-null  object \n",
      "dtypes: float64(5), int64(5), object(11)\n",
      "memory usage: 6.6+ MB\n"
     ]
    }
   ],
   "source": [
    "raw.info()"
   ]
  },
  {
   "cell_type": "markdown",
   "id": "c97bd106",
   "metadata": {},
   "source": [
    "### Statistic description\n",
    "Next we use describe to "
   ]
  },
  {
   "cell_type": "code",
   "execution_count": 7,
   "id": "e3be2472",
   "metadata": {},
   "outputs": [
    {
     "data": {
      "text/html": [
       "<div>\n",
       "<style scoped>\n",
       "    .dataframe tbody tr th:only-of-type {\n",
       "        vertical-align: middle;\n",
       "    }\n",
       "\n",
       "    .dataframe tbody tr th {\n",
       "        vertical-align: top;\n",
       "    }\n",
       "\n",
       "    .dataframe thead th {\n",
       "        text-align: right;\n",
       "    }\n",
       "</style>\n",
       "<table border=\"1\" class=\"dataframe\">\n",
       "  <thead>\n",
       "    <tr style=\"text-align: right;\">\n",
       "      <th></th>\n",
       "      <th>count</th>\n",
       "      <th>mean</th>\n",
       "      <th>std</th>\n",
       "      <th>min</th>\n",
       "      <th>25%</th>\n",
       "      <th>50%</th>\n",
       "      <th>75%</th>\n",
       "      <th>max</th>\n",
       "    </tr>\n",
       "  </thead>\n",
       "  <tbody>\n",
       "    <tr>\n",
       "      <th>age</th>\n",
       "      <td>30488.0</td>\n",
       "      <td>39.030012</td>\n",
       "      <td>10.333529</td>\n",
       "      <td>17.000</td>\n",
       "      <td>31.000</td>\n",
       "      <td>37.000</td>\n",
       "      <td>45.000</td>\n",
       "      <td>95.000</td>\n",
       "    </tr>\n",
       "    <tr>\n",
       "      <th>duration</th>\n",
       "      <td>30488.0</td>\n",
       "      <td>259.484092</td>\n",
       "      <td>261.714262</td>\n",
       "      <td>0.000</td>\n",
       "      <td>103.000</td>\n",
       "      <td>181.000</td>\n",
       "      <td>321.000</td>\n",
       "      <td>4918.000</td>\n",
       "    </tr>\n",
       "    <tr>\n",
       "      <th>campaign</th>\n",
       "      <td>30488.0</td>\n",
       "      <td>2.521451</td>\n",
       "      <td>2.720150</td>\n",
       "      <td>1.000</td>\n",
       "      <td>1.000</td>\n",
       "      <td>2.000</td>\n",
       "      <td>3.000</td>\n",
       "      <td>43.000</td>\n",
       "    </tr>\n",
       "    <tr>\n",
       "      <th>pdays</th>\n",
       "      <td>30488.0</td>\n",
       "      <td>956.332295</td>\n",
       "      <td>201.373292</td>\n",
       "      <td>0.000</td>\n",
       "      <td>999.000</td>\n",
       "      <td>999.000</td>\n",
       "      <td>999.000</td>\n",
       "      <td>999.000</td>\n",
       "    </tr>\n",
       "    <tr>\n",
       "      <th>previous</th>\n",
       "      <td>30488.0</td>\n",
       "      <td>0.194273</td>\n",
       "      <td>0.522788</td>\n",
       "      <td>0.000</td>\n",
       "      <td>0.000</td>\n",
       "      <td>0.000</td>\n",
       "      <td>0.000</td>\n",
       "      <td>7.000</td>\n",
       "    </tr>\n",
       "    <tr>\n",
       "      <th>emp.var.rate</th>\n",
       "      <td>30488.0</td>\n",
       "      <td>-0.071510</td>\n",
       "      <td>1.610399</td>\n",
       "      <td>-3.400</td>\n",
       "      <td>-1.800</td>\n",
       "      <td>1.100</td>\n",
       "      <td>1.400</td>\n",
       "      <td>1.400</td>\n",
       "    </tr>\n",
       "    <tr>\n",
       "      <th>cons.price.idx</th>\n",
       "      <td>30488.0</td>\n",
       "      <td>93.523311</td>\n",
       "      <td>0.585374</td>\n",
       "      <td>92.201</td>\n",
       "      <td>93.075</td>\n",
       "      <td>93.444</td>\n",
       "      <td>93.994</td>\n",
       "      <td>94.767</td>\n",
       "    </tr>\n",
       "    <tr>\n",
       "      <th>cons.conf.idx</th>\n",
       "      <td>30488.0</td>\n",
       "      <td>-40.602263</td>\n",
       "      <td>4.789249</td>\n",
       "      <td>-50.800</td>\n",
       "      <td>-42.700</td>\n",
       "      <td>-41.800</td>\n",
       "      <td>-36.400</td>\n",
       "      <td>-26.900</td>\n",
       "    </tr>\n",
       "    <tr>\n",
       "      <th>euribor3m</th>\n",
       "      <td>30488.0</td>\n",
       "      <td>3.459938</td>\n",
       "      <td>1.777231</td>\n",
       "      <td>0.634</td>\n",
       "      <td>1.313</td>\n",
       "      <td>4.856</td>\n",
       "      <td>4.961</td>\n",
       "      <td>5.045</td>\n",
       "    </tr>\n",
       "    <tr>\n",
       "      <th>nr.employed</th>\n",
       "      <td>30488.0</td>\n",
       "      <td>5160.813409</td>\n",
       "      <td>75.158065</td>\n",
       "      <td>4963.600</td>\n",
       "      <td>5099.100</td>\n",
       "      <td>5191.000</td>\n",
       "      <td>5228.100</td>\n",
       "      <td>5228.100</td>\n",
       "    </tr>\n",
       "  </tbody>\n",
       "</table>\n",
       "</div>"
      ],
      "text/plain": [
       "                  count         mean         std       min       25%  \\\n",
       "age             30488.0    39.030012   10.333529    17.000    31.000   \n",
       "duration        30488.0   259.484092  261.714262     0.000   103.000   \n",
       "campaign        30488.0     2.521451    2.720150     1.000     1.000   \n",
       "pdays           30488.0   956.332295  201.373292     0.000   999.000   \n",
       "previous        30488.0     0.194273    0.522788     0.000     0.000   \n",
       "emp.var.rate    30488.0    -0.071510    1.610399    -3.400    -1.800   \n",
       "cons.price.idx  30488.0    93.523311    0.585374    92.201    93.075   \n",
       "cons.conf.idx   30488.0   -40.602263    4.789249   -50.800   -42.700   \n",
       "euribor3m       30488.0     3.459938    1.777231     0.634     1.313   \n",
       "nr.employed     30488.0  5160.813409   75.158065  4963.600  5099.100   \n",
       "\n",
       "                     50%       75%       max  \n",
       "age               37.000    45.000    95.000  \n",
       "duration         181.000   321.000  4918.000  \n",
       "campaign           2.000     3.000    43.000  \n",
       "pdays            999.000   999.000   999.000  \n",
       "previous           0.000     0.000     7.000  \n",
       "emp.var.rate       1.100     1.400     1.400  \n",
       "cons.price.idx    93.444    93.994    94.767  \n",
       "cons.conf.idx    -41.800   -36.400   -26.900  \n",
       "euribor3m          4.856     4.961     5.045  \n",
       "nr.employed     5191.000  5228.100  5228.100  "
      ]
     },
     "execution_count": 7,
     "metadata": {},
     "output_type": "execute_result"
    }
   ],
   "source": [
    "raw.describe().T"
   ]
  },
  {
   "cell_type": "markdown",
   "id": "e044e0b9",
   "metadata": {},
   "source": [
    "## Data Cleaning\n",
    "From the dataset description, there are several null values written as unknown in several columns. We replace the unknowns with null values and drop them from the data."
   ]
  },
  {
   "cell_type": "code",
   "execution_count": null,
   "id": "eaa3d69f",
   "metadata": {},
   "outputs": [
    {
     "name": "stdout",
     "output_type": "stream",
     "text": [
      "<class 'pandas.core.frame.DataFrame'>\n",
      "Int64Index: 30488 entries, 0 to 41187\n",
      "Data columns (total 21 columns):\n",
      " #   Column          Non-Null Count  Dtype  \n",
      "---  ------          --------------  -----  \n",
      " 0   age             30488 non-null  int64  \n",
      " 1   job             30488 non-null  object \n",
      " 2   marital         30488 non-null  object \n",
      " 3   education       30488 non-null  object \n",
      " 4   default         30488 non-null  object \n",
      " 5   housing         30488 non-null  object \n",
      " 6   loan            30488 non-null  object \n",
      " 7   contact         30488 non-null  object \n",
      " 8   month           30488 non-null  object \n",
      " 9   day_of_week     30488 non-null  object \n",
      " 10  duration        30488 non-null  int64  \n",
      " 11  campaign        30488 non-null  int64  \n",
      " 12  pdays           30488 non-null  int64  \n",
      " 13  previous        30488 non-null  int64  \n",
      " 14  poutcome        30488 non-null  object \n",
      " 15  emp.var.rate    30488 non-null  float64\n",
      " 16  cons.price.idx  30488 non-null  float64\n",
      " 17  cons.conf.idx   30488 non-null  float64\n",
      " 18  euribor3m       30488 non-null  float64\n",
      " 19  nr.employed     30488 non-null  float64\n",
      " 20  y               30488 non-null  object \n",
      "dtypes: float64(5), int64(5), object(11)\n",
      "memory usage: 5.1+ MB\n"
     ]
    }
   ],
   "source": [
    "raw = raw.replace('unknown', np.nan)\n",
    "raw = raw.dropna()\n",
    "raw.info()"
   ]
  },
  {
   "cell_type": "markdown",
   "id": "a56f9e5d",
   "metadata": {},
   "source": [
    "Next in the data description, pdays column have 999 for customers who are called for the first time, which means it is a null value. As seen on simple data exploration using describe() above, the null values are the majority; taking the 1st, 2nd, 3rd, and 4th quartile. We replace this value using the mean of the column without 999."
   ]
  },
  {
   "cell_type": "code",
   "execution_count": 6,
   "id": "b32ef29a",
   "metadata": {},
   "outputs": [
    {
     "data": {
      "text/plain": [
       "6     29541\n",
       "3       381\n",
       "4       102\n",
       "2        53\n",
       "9        53\n",
       "7        50\n",
       "12       50\n",
       "5        43\n",
       "10       40\n",
       "13       33\n",
       "11       25\n",
       "15       22\n",
       "1        21\n",
       "14       17\n",
       "0        14\n",
       "8        13\n",
       "16        8\n",
       "17        6\n",
       "18        5\n",
       "22        3\n",
       "19        3\n",
       "21        2\n",
       "25        1\n",
       "26        1\n",
       "27        1\n",
       "Name: pdays, dtype: int64"
      ]
     },
     "execution_count": 6,
     "metadata": {},
     "output_type": "execute_result"
    }
   ],
   "source": [
    "sl = raw.pdays[raw['pdays'] != 999]\n",
    "raw.pdays.replace({999:int(sl.mean()+1)}, inplace=True)\n",
    "raw.pdays.value_counts()"
   ]
  },
  {
   "cell_type": "markdown",
   "id": "8ae46a38",
   "metadata": {},
   "source": [
    "### Encode binary categorical columns\n",
    "Since it's more convenient to process the data when all values are numeric, we replace all binary value in categorical columns with 'yes' and 'no' to 1 and 0."
   ]
  },
  {
   "cell_type": "code",
   "execution_count": 7,
   "id": "9133f699",
   "metadata": {},
   "outputs": [
    {
     "data": {
      "text/html": [
       "<div>\n",
       "<style scoped>\n",
       "    .dataframe tbody tr th:only-of-type {\n",
       "        vertical-align: middle;\n",
       "    }\n",
       "\n",
       "    .dataframe tbody tr th {\n",
       "        vertical-align: top;\n",
       "    }\n",
       "\n",
       "    .dataframe thead th {\n",
       "        text-align: right;\n",
       "    }\n",
       "</style>\n",
       "<table border=\"1\" class=\"dataframe\">\n",
       "  <thead>\n",
       "    <tr style=\"text-align: right;\">\n",
       "      <th></th>\n",
       "      <th>age</th>\n",
       "      <th>job</th>\n",
       "      <th>marital</th>\n",
       "      <th>education</th>\n",
       "      <th>default</th>\n",
       "      <th>housing</th>\n",
       "      <th>loan</th>\n",
       "      <th>contact</th>\n",
       "      <th>month</th>\n",
       "      <th>day_of_week</th>\n",
       "      <th>...</th>\n",
       "      <th>campaign</th>\n",
       "      <th>pdays</th>\n",
       "      <th>previous</th>\n",
       "      <th>poutcome</th>\n",
       "      <th>emp.var.rate</th>\n",
       "      <th>cons.price.idx</th>\n",
       "      <th>cons.conf.idx</th>\n",
       "      <th>euribor3m</th>\n",
       "      <th>nr.employed</th>\n",
       "      <th>y</th>\n",
       "    </tr>\n",
       "  </thead>\n",
       "  <tbody>\n",
       "    <tr>\n",
       "      <th>0</th>\n",
       "      <td>56</td>\n",
       "      <td>housemaid</td>\n",
       "      <td>married</td>\n",
       "      <td>basic.4y</td>\n",
       "      <td>0</td>\n",
       "      <td>0</td>\n",
       "      <td>0</td>\n",
       "      <td>telephone</td>\n",
       "      <td>may</td>\n",
       "      <td>mon</td>\n",
       "      <td>...</td>\n",
       "      <td>1</td>\n",
       "      <td>6</td>\n",
       "      <td>0</td>\n",
       "      <td>nonexistent</td>\n",
       "      <td>1.1</td>\n",
       "      <td>93.994</td>\n",
       "      <td>-36.4</td>\n",
       "      <td>4.857</td>\n",
       "      <td>5191.0</td>\n",
       "      <td>0</td>\n",
       "    </tr>\n",
       "    <tr>\n",
       "      <th>2</th>\n",
       "      <td>37</td>\n",
       "      <td>services</td>\n",
       "      <td>married</td>\n",
       "      <td>high.school</td>\n",
       "      <td>0</td>\n",
       "      <td>1</td>\n",
       "      <td>0</td>\n",
       "      <td>telephone</td>\n",
       "      <td>may</td>\n",
       "      <td>mon</td>\n",
       "      <td>...</td>\n",
       "      <td>1</td>\n",
       "      <td>6</td>\n",
       "      <td>0</td>\n",
       "      <td>nonexistent</td>\n",
       "      <td>1.1</td>\n",
       "      <td>93.994</td>\n",
       "      <td>-36.4</td>\n",
       "      <td>4.857</td>\n",
       "      <td>5191.0</td>\n",
       "      <td>0</td>\n",
       "    </tr>\n",
       "    <tr>\n",
       "      <th>3</th>\n",
       "      <td>40</td>\n",
       "      <td>admin.</td>\n",
       "      <td>married</td>\n",
       "      <td>basic.6y</td>\n",
       "      <td>0</td>\n",
       "      <td>0</td>\n",
       "      <td>0</td>\n",
       "      <td>telephone</td>\n",
       "      <td>may</td>\n",
       "      <td>mon</td>\n",
       "      <td>...</td>\n",
       "      <td>1</td>\n",
       "      <td>6</td>\n",
       "      <td>0</td>\n",
       "      <td>nonexistent</td>\n",
       "      <td>1.1</td>\n",
       "      <td>93.994</td>\n",
       "      <td>-36.4</td>\n",
       "      <td>4.857</td>\n",
       "      <td>5191.0</td>\n",
       "      <td>0</td>\n",
       "    </tr>\n",
       "    <tr>\n",
       "      <th>4</th>\n",
       "      <td>56</td>\n",
       "      <td>services</td>\n",
       "      <td>married</td>\n",
       "      <td>high.school</td>\n",
       "      <td>0</td>\n",
       "      <td>0</td>\n",
       "      <td>1</td>\n",
       "      <td>telephone</td>\n",
       "      <td>may</td>\n",
       "      <td>mon</td>\n",
       "      <td>...</td>\n",
       "      <td>1</td>\n",
       "      <td>6</td>\n",
       "      <td>0</td>\n",
       "      <td>nonexistent</td>\n",
       "      <td>1.1</td>\n",
       "      <td>93.994</td>\n",
       "      <td>-36.4</td>\n",
       "      <td>4.857</td>\n",
       "      <td>5191.0</td>\n",
       "      <td>0</td>\n",
       "    </tr>\n",
       "    <tr>\n",
       "      <th>6</th>\n",
       "      <td>59</td>\n",
       "      <td>admin.</td>\n",
       "      <td>married</td>\n",
       "      <td>professional.course</td>\n",
       "      <td>0</td>\n",
       "      <td>0</td>\n",
       "      <td>0</td>\n",
       "      <td>telephone</td>\n",
       "      <td>may</td>\n",
       "      <td>mon</td>\n",
       "      <td>...</td>\n",
       "      <td>1</td>\n",
       "      <td>6</td>\n",
       "      <td>0</td>\n",
       "      <td>nonexistent</td>\n",
       "      <td>1.1</td>\n",
       "      <td>93.994</td>\n",
       "      <td>-36.4</td>\n",
       "      <td>4.857</td>\n",
       "      <td>5191.0</td>\n",
       "      <td>0</td>\n",
       "    </tr>\n",
       "  </tbody>\n",
       "</table>\n",
       "<p>5 rows × 21 columns</p>\n",
       "</div>"
      ],
      "text/plain": [
       "   age        job  marital            education  default  housing  loan  \\\n",
       "0   56  housemaid  married             basic.4y        0        0     0   \n",
       "2   37   services  married          high.school        0        1     0   \n",
       "3   40     admin.  married             basic.6y        0        0     0   \n",
       "4   56   services  married          high.school        0        0     1   \n",
       "6   59     admin.  married  professional.course        0        0     0   \n",
       "\n",
       "     contact month day_of_week  ...  campaign  pdays  previous     poutcome  \\\n",
       "0  telephone   may         mon  ...         1      6         0  nonexistent   \n",
       "2  telephone   may         mon  ...         1      6         0  nonexistent   \n",
       "3  telephone   may         mon  ...         1      6         0  nonexistent   \n",
       "4  telephone   may         mon  ...         1      6         0  nonexistent   \n",
       "6  telephone   may         mon  ...         1      6         0  nonexistent   \n",
       "\n",
       "  emp.var.rate  cons.price.idx  cons.conf.idx  euribor3m  nr.employed  y  \n",
       "0          1.1          93.994          -36.4      4.857       5191.0  0  \n",
       "2          1.1          93.994          -36.4      4.857       5191.0  0  \n",
       "3          1.1          93.994          -36.4      4.857       5191.0  0  \n",
       "4          1.1          93.994          -36.4      4.857       5191.0  0  \n",
       "6          1.1          93.994          -36.4      4.857       5191.0  0  \n",
       "\n",
       "[5 rows x 21 columns]"
      ]
     },
     "execution_count": 7,
     "metadata": {},
     "output_type": "execute_result"
    }
   ],
   "source": [
    "raw.replace({'yes':1,'no':0}, inplace=True)\n",
    "raw.head()"
   ]
  },
  {
   "cell_type": "markdown",
   "id": "36f4fa05",
   "metadata": {},
   "source": [
    "### Encode non-binary categorical columns\n",
    "Next we encode the non-binary categorical columns. For 'day_of_week' and 'month' we use replace() to define the replacement, while other categorical columns are encoded with OneHotEncoder(). We also drop the columns encoded with OneHotEncoder() from original data."
   ]
  },
  {
   "cell_type": "code",
   "execution_count": 8,
   "id": "628f415d",
   "metadata": {},
   "outputs": [
    {
     "data": {
      "text/html": [
       "<div>\n",
       "<style scoped>\n",
       "    .dataframe tbody tr th:only-of-type {\n",
       "        vertical-align: middle;\n",
       "    }\n",
       "\n",
       "    .dataframe tbody tr th {\n",
       "        vertical-align: top;\n",
       "    }\n",
       "\n",
       "    .dataframe thead th {\n",
       "        text-align: right;\n",
       "    }\n",
       "</style>\n",
       "<table border=\"1\" class=\"dataframe\">\n",
       "  <thead>\n",
       "    <tr style=\"text-align: right;\">\n",
       "      <th></th>\n",
       "      <th>job_admin.</th>\n",
       "      <th>job_blue-collar</th>\n",
       "      <th>job_entrepreneur</th>\n",
       "      <th>job_housemaid</th>\n",
       "      <th>job_management</th>\n",
       "      <th>job_retired</th>\n",
       "      <th>job_self-employed</th>\n",
       "      <th>job_services</th>\n",
       "      <th>job_student</th>\n",
       "      <th>job_technician</th>\n",
       "      <th>job_unemployed</th>\n",
       "      <th>marital_divorced</th>\n",
       "      <th>marital_married</th>\n",
       "      <th>marital_single</th>\n",
       "      <th>contact_cellular</th>\n",
       "      <th>contact_telephone</th>\n",
       "      <th>poutcome_failure</th>\n",
       "      <th>poutcome_nonexistent</th>\n",
       "      <th>poutcome_success</th>\n",
       "    </tr>\n",
       "  </thead>\n",
       "  <tbody>\n",
       "    <tr>\n",
       "      <th>0</th>\n",
       "      <td>0.0</td>\n",
       "      <td>0.0</td>\n",
       "      <td>0.0</td>\n",
       "      <td>1.0</td>\n",
       "      <td>0.0</td>\n",
       "      <td>0.0</td>\n",
       "      <td>0.0</td>\n",
       "      <td>0.0</td>\n",
       "      <td>0.0</td>\n",
       "      <td>0.0</td>\n",
       "      <td>0.0</td>\n",
       "      <td>0.0</td>\n",
       "      <td>1.0</td>\n",
       "      <td>0.0</td>\n",
       "      <td>0.0</td>\n",
       "      <td>1.0</td>\n",
       "      <td>0.0</td>\n",
       "      <td>1.0</td>\n",
       "      <td>0.0</td>\n",
       "    </tr>\n",
       "    <tr>\n",
       "      <th>1</th>\n",
       "      <td>0.0</td>\n",
       "      <td>0.0</td>\n",
       "      <td>0.0</td>\n",
       "      <td>0.0</td>\n",
       "      <td>0.0</td>\n",
       "      <td>0.0</td>\n",
       "      <td>0.0</td>\n",
       "      <td>1.0</td>\n",
       "      <td>0.0</td>\n",
       "      <td>0.0</td>\n",
       "      <td>0.0</td>\n",
       "      <td>0.0</td>\n",
       "      <td>1.0</td>\n",
       "      <td>0.0</td>\n",
       "      <td>0.0</td>\n",
       "      <td>1.0</td>\n",
       "      <td>0.0</td>\n",
       "      <td>1.0</td>\n",
       "      <td>0.0</td>\n",
       "    </tr>\n",
       "    <tr>\n",
       "      <th>2</th>\n",
       "      <td>1.0</td>\n",
       "      <td>0.0</td>\n",
       "      <td>0.0</td>\n",
       "      <td>0.0</td>\n",
       "      <td>0.0</td>\n",
       "      <td>0.0</td>\n",
       "      <td>0.0</td>\n",
       "      <td>0.0</td>\n",
       "      <td>0.0</td>\n",
       "      <td>0.0</td>\n",
       "      <td>0.0</td>\n",
       "      <td>0.0</td>\n",
       "      <td>1.0</td>\n",
       "      <td>0.0</td>\n",
       "      <td>0.0</td>\n",
       "      <td>1.0</td>\n",
       "      <td>0.0</td>\n",
       "      <td>1.0</td>\n",
       "      <td>0.0</td>\n",
       "    </tr>\n",
       "    <tr>\n",
       "      <th>3</th>\n",
       "      <td>0.0</td>\n",
       "      <td>0.0</td>\n",
       "      <td>0.0</td>\n",
       "      <td>0.0</td>\n",
       "      <td>0.0</td>\n",
       "      <td>0.0</td>\n",
       "      <td>0.0</td>\n",
       "      <td>1.0</td>\n",
       "      <td>0.0</td>\n",
       "      <td>0.0</td>\n",
       "      <td>0.0</td>\n",
       "      <td>0.0</td>\n",
       "      <td>1.0</td>\n",
       "      <td>0.0</td>\n",
       "      <td>0.0</td>\n",
       "      <td>1.0</td>\n",
       "      <td>0.0</td>\n",
       "      <td>1.0</td>\n",
       "      <td>0.0</td>\n",
       "    </tr>\n",
       "    <tr>\n",
       "      <th>4</th>\n",
       "      <td>1.0</td>\n",
       "      <td>0.0</td>\n",
       "      <td>0.0</td>\n",
       "      <td>0.0</td>\n",
       "      <td>0.0</td>\n",
       "      <td>0.0</td>\n",
       "      <td>0.0</td>\n",
       "      <td>0.0</td>\n",
       "      <td>0.0</td>\n",
       "      <td>0.0</td>\n",
       "      <td>0.0</td>\n",
       "      <td>0.0</td>\n",
       "      <td>1.0</td>\n",
       "      <td>0.0</td>\n",
       "      <td>0.0</td>\n",
       "      <td>1.0</td>\n",
       "      <td>0.0</td>\n",
       "      <td>1.0</td>\n",
       "      <td>0.0</td>\n",
       "    </tr>\n",
       "  </tbody>\n",
       "</table>\n",
       "</div>"
      ],
      "text/plain": [
       "   job_admin.  job_blue-collar  job_entrepreneur  job_housemaid  \\\n",
       "0         0.0              0.0               0.0            1.0   \n",
       "1         0.0              0.0               0.0            0.0   \n",
       "2         1.0              0.0               0.0            0.0   \n",
       "3         0.0              0.0               0.0            0.0   \n",
       "4         1.0              0.0               0.0            0.0   \n",
       "\n",
       "   job_management  job_retired  job_self-employed  job_services  job_student  \\\n",
       "0             0.0          0.0                0.0           0.0          0.0   \n",
       "1             0.0          0.0                0.0           1.0          0.0   \n",
       "2             0.0          0.0                0.0           0.0          0.0   \n",
       "3             0.0          0.0                0.0           1.0          0.0   \n",
       "4             0.0          0.0                0.0           0.0          0.0   \n",
       "\n",
       "   job_technician  job_unemployed  marital_divorced  marital_married  \\\n",
       "0             0.0             0.0               0.0              1.0   \n",
       "1             0.0             0.0               0.0              1.0   \n",
       "2             0.0             0.0               0.0              1.0   \n",
       "3             0.0             0.0               0.0              1.0   \n",
       "4             0.0             0.0               0.0              1.0   \n",
       "\n",
       "   marital_single  contact_cellular  contact_telephone  poutcome_failure  \\\n",
       "0             0.0               0.0                1.0               0.0   \n",
       "1             0.0               0.0                1.0               0.0   \n",
       "2             0.0               0.0                1.0               0.0   \n",
       "3             0.0               0.0                1.0               0.0   \n",
       "4             0.0               0.0                1.0               0.0   \n",
       "\n",
       "   poutcome_nonexistent  poutcome_success  \n",
       "0                   1.0               0.0  \n",
       "1                   1.0               0.0  \n",
       "2                   1.0               0.0  \n",
       "3                   1.0               0.0  \n",
       "4                   1.0               0.0  "
      ]
     },
     "execution_count": 8,
     "metadata": {},
     "output_type": "execute_result"
    }
   ],
   "source": [
    "raw.day_of_week.replace({'mon':1,'tue':2,'wed':3,'thu':4,'fri':5},inplace=True)\n",
    "raw.month.replace({'mar':3,'apr':4,'may':5,'jun':6,'jul':7,\n",
    "                   'aug':8,'sep':9,'oct':10,'nov':11,'dec':12},inplace=True)\n",
    "raw.education.replace({'illiterate':0,'basic.4y':1,'basic.6y':2,'basic.9y':3,'high.school':4,\n",
    "                      'professional.course':5,'university.degree':6}, inplace=True)\n",
    "\n",
    "ohe = preprocessing.OneHotEncoder(sparse=False, handle_unknown='ignore')\n",
    "feat = ['job','marital','contact','poutcome']\n",
    "enc = pd.DataFrame(ohe.fit_transform(raw[feat]))\n",
    "enc.columns = ohe.get_feature_names(input_features=feat)\n",
    "raw.drop(columns=feat, inplace=True)\n",
    "enc.head()"
   ]
  },
  {
   "cell_type": "markdown",
   "id": "25ed4d36",
   "metadata": {},
   "source": [
    "## Data Exploration"
   ]
  },
  {
   "cell_type": "markdown",
   "id": "c3a7d186",
   "metadata": {},
   "source": [
    "### Correlation heatmap\n",
    "First we want to see the linear correlation between each numerical variable in the data. We use a heatmap to visualize the correlation between variables."
   ]
  },
  {
   "cell_type": "code",
   "execution_count": 9,
   "id": "e36e5273",
   "metadata": {},
   "outputs": [
    {
     "data": {
      "image/png": "[encoded data removed]",
      "text/plain": [
       "<Figure size 1080x1080 with 2 Axes>"
      ]
     },
     "metadata": {
      "needs_background": "light"
     },
     "output_type": "display_data"
    }
   ],
   "source": [
    "plt.figure(figsize=[15,15])\n",
    "sns.heatmap(raw.corr(), annot=True, mask=np.triu(raw.corr()), fmt='.2f', cmap='coolwarm')\n",
    "plt.show()"
   ]
  },
  {
   "cell_type": "markdown",
   "id": "a77ed540",
   "metadata": {},
   "source": [
    "From the heatmap, 'duration' and 'previous' column have significant positive correlation with target, while 'emp.var.rate', 'euribor3m', and 'nr.employed' have significant negative correlation with target. We can also see that 'emp.var.rate' and 'euribor3m' have high correlation (>0.9) with other features aside from target. "
   ]
  },
  {
   "cell_type": "markdown",
   "id": "fd8e3a49",
   "metadata": {},
   "source": [
    "### Distribution of target\n",
    "How many people agree to leave a deposit for subscription after the marketing campaign? In the graph below, we can see that nearly 26,700 customer (~87.3%) didn't agree to subscribe (y=0). Using this data for training the model might result in a lower classification performance for one class, so we might need to downsample the majority for training."
   ]
  },
  {
   "cell_type": "code",
   "execution_count": 10,
   "id": "e3acea1a",
   "metadata": {},
   "outputs": [
    {
     "data": {
      "image/png": "[encoded data removed]",
      "text/plain": [
       "<Figure size 576x576 with 1 Axes>"
      ]
     },
     "metadata": {
      "needs_background": "light"
     },
     "output_type": "display_data"
    }
   ],
   "source": [
    "plt.figure(figsize=(8, 8))\n",
    "splot = sns.countplot(data=raw, x='y')\n",
    "for p in splot.patches:\n",
    "    splot.annotate(\n",
    "        format(p.get_height(), '.0f'),\n",
    "        (p.get_x() + p.get_width() / 2., p.get_height()),\n",
    "        ha = 'center', va = 'center', xytext = (0, 10),\n",
    "        textcoords = 'offset points')"
   ]
  },
  {
   "cell_type": "markdown",
   "id": "bf5b17f1",
   "metadata": {},
   "source": [
    "### Duration of call and marketing success\n",
    "From below histogram we can see that successful marketing (orange) rises later than unsuccessful ones, which means with longer call duration the chance of success increases."
   ]
  },
  {
   "cell_type": "code",
   "execution_count": 11,
   "id": "2c430899",
   "metadata": {},
   "outputs": [
    {
     "data": {
      "image/png": "[encoded data removed]",
      "text/plain": [
       "<Figure size 936x432 with 1 Axes>"
      ]
     },
     "metadata": {
      "needs_background": "light"
     },
     "output_type": "display_data"
    }
   ],
   "source": [
    "plt.figure(figsize=(13,6))\n",
    "sns.histplot(data=raw, x='duration', hue='y', bins=150, kde=True)\n",
    "plt.show()"
   ]
  },
  {
   "cell_type": "markdown",
   "id": "f903d48b",
   "metadata": {},
   "source": [
    "### Previous contact\n",
    "Here we can see that customers with previous contact with the bank are more likely to accept the marketing."
   ]
  },
  {
   "cell_type": "code",
   "execution_count": 12,
   "id": "5a772eef",
   "metadata": {},
   "outputs": [
    {
     "data": {
      "image/png": "[encoded data removed]",
      "text/plain": [
       "<Figure size 576x576 with 1 Axes>"
      ]
     },
     "metadata": {
      "needs_background": "light"
     },
     "output_type": "display_data"
    }
   ],
   "source": [
    "plt.figure(figsize=(8,8))\n",
    "g = sns.countplot(data=raw, x='previous', hue='y')\n",
    "g.set_yscale('log')"
   ]
  },
  {
   "cell_type": "markdown",
   "id": "b9f55a19",
   "metadata": {},
   "source": [
    "## Data Preprocessing\n",
    "### Feature selection\n",
    "To find which feature to use in our model, we can use mutual_info_classif() to sieve the features."
   ]
  },
  {
   "cell_type": "code",
   "execution_count": 13,
   "id": "22d980d5",
   "metadata": {},
   "outputs": [
    {
     "data": {
      "text/html": [
       "<div>\n",
       "<style scoped>\n",
       "    .dataframe tbody tr th:only-of-type {\n",
       "        vertical-align: middle;\n",
       "    }\n",
       "\n",
       "    .dataframe tbody tr th {\n",
       "        vertical-align: top;\n",
       "    }\n",
       "\n",
       "    .dataframe thead th {\n",
       "        text-align: right;\n",
       "    }\n",
       "</style>\n",
       "<table border=\"1\" class=\"dataframe\">\n",
       "  <thead>\n",
       "    <tr style=\"text-align: right;\">\n",
       "      <th></th>\n",
       "      <th>MI Score</th>\n",
       "    </tr>\n",
       "  </thead>\n",
       "  <tbody>\n",
       "    <tr>\n",
       "      <th>age</th>\n",
       "      <td>0.011972</td>\n",
       "    </tr>\n",
       "    <tr>\n",
       "      <th>education</th>\n",
       "      <td>0.006728</td>\n",
       "    </tr>\n",
       "    <tr>\n",
       "      <th>default</th>\n",
       "      <td>0.000474</td>\n",
       "    </tr>\n",
       "    <tr>\n",
       "      <th>housing</th>\n",
       "      <td>0.002519</td>\n",
       "    </tr>\n",
       "    <tr>\n",
       "      <th>loan</th>\n",
       "      <td>0.000000</td>\n",
       "    </tr>\n",
       "    <tr>\n",
       "      <th>month</th>\n",
       "      <td>0.031310</td>\n",
       "    </tr>\n",
       "    <tr>\n",
       "      <th>day_of_week</th>\n",
       "      <td>0.001948</td>\n",
       "    </tr>\n",
       "    <tr>\n",
       "      <th>duration</th>\n",
       "      <td>0.078565</td>\n",
       "    </tr>\n",
       "    <tr>\n",
       "      <th>campaign</th>\n",
       "      <td>0.003946</td>\n",
       "    </tr>\n",
       "    <tr>\n",
       "      <th>pdays</th>\n",
       "      <td>0.028642</td>\n",
       "    </tr>\n",
       "    <tr>\n",
       "      <th>previous</th>\n",
       "      <td>0.019538</td>\n",
       "    </tr>\n",
       "    <tr>\n",
       "      <th>emp.var.rate</th>\n",
       "      <td>0.059331</td>\n",
       "    </tr>\n",
       "    <tr>\n",
       "      <th>cons.price.idx</th>\n",
       "      <td>0.075109</td>\n",
       "    </tr>\n",
       "    <tr>\n",
       "      <th>cons.conf.idx</th>\n",
       "      <td>0.075236</td>\n",
       "    </tr>\n",
       "    <tr>\n",
       "      <th>euribor3m</th>\n",
       "      <td>0.082124</td>\n",
       "    </tr>\n",
       "    <tr>\n",
       "      <th>nr.employed</th>\n",
       "      <td>0.069708</td>\n",
       "    </tr>\n",
       "  </tbody>\n",
       "</table>\n",
       "</div>"
      ],
      "text/plain": [
       "                MI Score\n",
       "age             0.011972\n",
       "education       0.006728\n",
       "default         0.000474\n",
       "housing         0.002519\n",
       "loan            0.000000\n",
       "month           0.031310\n",
       "day_of_week     0.001948\n",
       "duration        0.078565\n",
       "campaign        0.003946\n",
       "pdays           0.028642\n",
       "previous        0.019538\n",
       "emp.var.rate    0.059331\n",
       "cons.price.idx  0.075109\n",
       "cons.conf.idx   0.075236\n",
       "euribor3m       0.082124\n",
       "nr.employed     0.069708"
      ]
     },
     "metadata": {},
     "output_type": "display_data"
    }
   ],
   "source": [
    "display(pd.DataFrame(feature_selection.mutual_info_classif(raw.drop(columns='y'), raw.y),index=raw.columns[:-1], columns=['MI Score']))"
   ]
  },
  {
   "cell_type": "markdown",
   "id": "f8daa3bf",
   "metadata": {},
   "source": [
    "Drop columns with score below 0.05: age, education, default, housing, loan, month, day_of_week, campaign, pdays, previous"
   ]
  },
  {
   "cell_type": "code",
   "execution_count": 14,
   "id": "4a8edeaf",
   "metadata": {},
   "outputs": [],
   "source": [
    "raw.drop(columns=['age','education','default','housing','loan','month','day_of_week','campaign','pdays','previous'], inplace=True)"
   ]
  },
  {
   "cell_type": "markdown",
   "id": "641a7c74",
   "metadata": {},
   "source": [
    "## Recombine data\n",
    "After feature selection, we recombine the numerical data with the encoded categorical columns."
   ]
  },
  {
   "cell_type": "code",
   "execution_count": 15,
   "id": "7e87e660",
   "metadata": {},
   "outputs": [
    {
     "data": {
      "text/html": [
       "<div>\n",
       "<style scoped>\n",
       "    .dataframe tbody tr th:only-of-type {\n",
       "        vertical-align: middle;\n",
       "    }\n",
       "\n",
       "    .dataframe tbody tr th {\n",
       "        vertical-align: top;\n",
       "    }\n",
       "\n",
       "    .dataframe thead th {\n",
       "        text-align: right;\n",
       "    }\n",
       "</style>\n",
       "<table border=\"1\" class=\"dataframe\">\n",
       "  <thead>\n",
       "    <tr style=\"text-align: right;\">\n",
       "      <th></th>\n",
       "      <th>duration</th>\n",
       "      <th>emp.var.rate</th>\n",
       "      <th>cons.price.idx</th>\n",
       "      <th>cons.conf.idx</th>\n",
       "      <th>euribor3m</th>\n",
       "      <th>nr.employed</th>\n",
       "      <th>y</th>\n",
       "      <th>job_admin.</th>\n",
       "      <th>job_blue-collar</th>\n",
       "      <th>job_entrepreneur</th>\n",
       "      <th>...</th>\n",
       "      <th>job_technician</th>\n",
       "      <th>job_unemployed</th>\n",
       "      <th>marital_divorced</th>\n",
       "      <th>marital_married</th>\n",
       "      <th>marital_single</th>\n",
       "      <th>contact_cellular</th>\n",
       "      <th>contact_telephone</th>\n",
       "      <th>poutcome_failure</th>\n",
       "      <th>poutcome_nonexistent</th>\n",
       "      <th>poutcome_success</th>\n",
       "    </tr>\n",
       "  </thead>\n",
       "  <tbody>\n",
       "    <tr>\n",
       "      <th>0</th>\n",
       "      <td>261</td>\n",
       "      <td>1.1</td>\n",
       "      <td>93.994</td>\n",
       "      <td>-36.4</td>\n",
       "      <td>4.857</td>\n",
       "      <td>5191.0</td>\n",
       "      <td>0</td>\n",
       "      <td>0.0</td>\n",
       "      <td>0.0</td>\n",
       "      <td>0.0</td>\n",
       "      <td>...</td>\n",
       "      <td>0.0</td>\n",
       "      <td>0.0</td>\n",
       "      <td>0.0</td>\n",
       "      <td>1.0</td>\n",
       "      <td>0.0</td>\n",
       "      <td>0.0</td>\n",
       "      <td>1.0</td>\n",
       "      <td>0.0</td>\n",
       "      <td>1.0</td>\n",
       "      <td>0.0</td>\n",
       "    </tr>\n",
       "    <tr>\n",
       "      <th>1</th>\n",
       "      <td>226</td>\n",
       "      <td>1.1</td>\n",
       "      <td>93.994</td>\n",
       "      <td>-36.4</td>\n",
       "      <td>4.857</td>\n",
       "      <td>5191.0</td>\n",
       "      <td>0</td>\n",
       "      <td>0.0</td>\n",
       "      <td>0.0</td>\n",
       "      <td>0.0</td>\n",
       "      <td>...</td>\n",
       "      <td>0.0</td>\n",
       "      <td>0.0</td>\n",
       "      <td>0.0</td>\n",
       "      <td>1.0</td>\n",
       "      <td>0.0</td>\n",
       "      <td>0.0</td>\n",
       "      <td>1.0</td>\n",
       "      <td>0.0</td>\n",
       "      <td>1.0</td>\n",
       "      <td>0.0</td>\n",
       "    </tr>\n",
       "    <tr>\n",
       "      <th>2</th>\n",
       "      <td>151</td>\n",
       "      <td>1.1</td>\n",
       "      <td>93.994</td>\n",
       "      <td>-36.4</td>\n",
       "      <td>4.857</td>\n",
       "      <td>5191.0</td>\n",
       "      <td>0</td>\n",
       "      <td>1.0</td>\n",
       "      <td>0.0</td>\n",
       "      <td>0.0</td>\n",
       "      <td>...</td>\n",
       "      <td>0.0</td>\n",
       "      <td>0.0</td>\n",
       "      <td>0.0</td>\n",
       "      <td>1.0</td>\n",
       "      <td>0.0</td>\n",
       "      <td>0.0</td>\n",
       "      <td>1.0</td>\n",
       "      <td>0.0</td>\n",
       "      <td>1.0</td>\n",
       "      <td>0.0</td>\n",
       "    </tr>\n",
       "    <tr>\n",
       "      <th>3</th>\n",
       "      <td>307</td>\n",
       "      <td>1.1</td>\n",
       "      <td>93.994</td>\n",
       "      <td>-36.4</td>\n",
       "      <td>4.857</td>\n",
       "      <td>5191.0</td>\n",
       "      <td>0</td>\n",
       "      <td>0.0</td>\n",
       "      <td>0.0</td>\n",
       "      <td>0.0</td>\n",
       "      <td>...</td>\n",
       "      <td>0.0</td>\n",
       "      <td>0.0</td>\n",
       "      <td>0.0</td>\n",
       "      <td>1.0</td>\n",
       "      <td>0.0</td>\n",
       "      <td>0.0</td>\n",
       "      <td>1.0</td>\n",
       "      <td>0.0</td>\n",
       "      <td>1.0</td>\n",
       "      <td>0.0</td>\n",
       "    </tr>\n",
       "    <tr>\n",
       "      <th>4</th>\n",
       "      <td>139</td>\n",
       "      <td>1.1</td>\n",
       "      <td>93.994</td>\n",
       "      <td>-36.4</td>\n",
       "      <td>4.857</td>\n",
       "      <td>5191.0</td>\n",
       "      <td>0</td>\n",
       "      <td>1.0</td>\n",
       "      <td>0.0</td>\n",
       "      <td>0.0</td>\n",
       "      <td>...</td>\n",
       "      <td>0.0</td>\n",
       "      <td>0.0</td>\n",
       "      <td>0.0</td>\n",
       "      <td>1.0</td>\n",
       "      <td>0.0</td>\n",
       "      <td>0.0</td>\n",
       "      <td>1.0</td>\n",
       "      <td>0.0</td>\n",
       "      <td>1.0</td>\n",
       "      <td>0.0</td>\n",
       "    </tr>\n",
       "  </tbody>\n",
       "</table>\n",
       "<p>5 rows × 26 columns</p>\n",
       "</div>"
      ],
      "text/plain": [
       "   duration  emp.var.rate  cons.price.idx  cons.conf.idx  euribor3m  \\\n",
       "0       261           1.1          93.994          -36.4      4.857   \n",
       "1       226           1.1          93.994          -36.4      4.857   \n",
       "2       151           1.1          93.994          -36.4      4.857   \n",
       "3       307           1.1          93.994          -36.4      4.857   \n",
       "4       139           1.1          93.994          -36.4      4.857   \n",
       "\n",
       "   nr.employed  y  job_admin.  job_blue-collar  job_entrepreneur  ...  \\\n",
       "0       5191.0  0         0.0              0.0               0.0  ...   \n",
       "1       5191.0  0         0.0              0.0               0.0  ...   \n",
       "2       5191.0  0         1.0              0.0               0.0  ...   \n",
       "3       5191.0  0         0.0              0.0               0.0  ...   \n",
       "4       5191.0  0         1.0              0.0               0.0  ...   \n",
       "\n",
       "   job_technician  job_unemployed  marital_divorced  marital_married  \\\n",
       "0             0.0             0.0               0.0              1.0   \n",
       "1             0.0             0.0               0.0              1.0   \n",
       "2             0.0             0.0               0.0              1.0   \n",
       "3             0.0             0.0               0.0              1.0   \n",
       "4             0.0             0.0               0.0              1.0   \n",
       "\n",
       "   marital_single  contact_cellular  contact_telephone  poutcome_failure  \\\n",
       "0             0.0               0.0                1.0               0.0   \n",
       "1             0.0               0.0                1.0               0.0   \n",
       "2             0.0               0.0                1.0               0.0   \n",
       "3             0.0               0.0                1.0               0.0   \n",
       "4             0.0               0.0                1.0               0.0   \n",
       "\n",
       "   poutcome_nonexistent  poutcome_success  \n",
       "0                   1.0               0.0  \n",
       "1                   1.0               0.0  \n",
       "2                   1.0               0.0  \n",
       "3                   1.0               0.0  \n",
       "4                   1.0               0.0  \n",
       "\n",
       "[5 rows x 26 columns]"
      ]
     },
     "execution_count": 15,
     "metadata": {},
     "output_type": "execute_result"
    }
   ],
   "source": [
    "raw.reset_index(drop=True,inplace=True)\n",
    "enc.reset_index(drop=True,inplace=True)\n",
    "cln = pd.concat([raw,enc],axis=1)\n",
    "cln.head()"
   ]
  },
  {
   "cell_type": "markdown",
   "id": "01070df1",
   "metadata": {},
   "source": [
    "### Downsampling\n",
    "From EDA we see that there is a disparity in target value distribution, so we resample the dataset to balance the target values count for model training."
   ]
  },
  {
   "cell_type": "code",
   "execution_count": 16,
   "id": "fbe7b6e3",
   "metadata": {},
   "outputs": [
    {
     "data": {
      "text/plain": [
       "1    3859\n",
       "0    3859\n",
       "Name: y, dtype: int64"
      ]
     },
     "execution_count": 16,
     "metadata": {},
     "output_type": "execute_result"
    }
   ],
   "source": [
    "minor = cln[cln.y==1]\n",
    "major = cln[cln.y==0]\n",
    "\n",
    "rmaj = utils.resample(\n",
    "    major,\n",
    "    replace=False,\n",
    "    n_samples=3859,\n",
    "    random_state=52\n",
    ")\n",
    "\n",
    "resam = pd.concat([minor,rmaj], axis=0)\n",
    "\n",
    "resam.y.value_counts()"
   ]
  },
  {
   "cell_type": "markdown",
   "id": "ff7cf8ea",
   "metadata": {},
   "source": [
    "### Splitting data\n",
    "We will use the resampled data for training and validation, while the full data is for testing the model. We use cross validation to evaluate the model."
   ]
  },
  {
   "cell_type": "code",
   "execution_count": 17,
   "id": "39d00823",
   "metadata": {
    "scrolled": true
   },
   "outputs": [
    {
     "data": {
      "text/plain": [
       "(7718, 25)"
      ]
     },
     "metadata": {},
     "output_type": "display_data"
    },
    {
     "data": {
      "text/plain": [
       "(30488, 25)"
      ]
     },
     "metadata": {},
     "output_type": "display_data"
    }
   ],
   "source": [
    "xs = resam.drop(columns='y', axis=1)\n",
    "ys = resam.y\n",
    "x = cln.drop(columns='y', axis=1)\n",
    "y = cln.y\n",
    "display(xs.shape, x.shape)"
   ]
  },
  {
   "cell_type": "markdown",
   "id": "3acaae5f",
   "metadata": {},
   "source": [
    "### Scale x values\n",
    "We use StandardScaler() to remove mean and use unit variance for models which performance relies on scaled data. We use fit_transform to our training data and transform to test data."
   ]
  },
  {
   "cell_type": "code",
   "execution_count": 18,
   "id": "eea206e8",
   "metadata": {},
   "outputs": [],
   "source": [
    "scaler = preprocessing.StandardScaler()\n",
    "xst = scaler.fit_transform(xs)\n",
    "xt = scaler.transform(x)"
   ]
  },
  {
   "cell_type": "markdown",
   "id": "0a903f02",
   "metadata": {},
   "source": [
    "## Model Definition\n",
    "For classifying the data, we will use several functions of machine learning in sklearn:\n",
    " - Logistic regression\n",
    " - Decision tree classifier\n",
    " - Random forest classifier\n",
    " - Support vector classifier\n",
    " - K neighbors classifier\n",
    " - Gaussian naive bayes\n",
    " - AdaBoost classifier"
   ]
  },
  {
   "cell_type": "markdown",
   "id": "89905b12",
   "metadata": {},
   "source": [
    "### Hyperparameter tuning\n",
    "We want to search for the optimal hyperparameter for our machine learning models with highest score in F1 score. F1 is chosen because we want a balance between precision and recall. For this purpose, we use GridSearchCV() and RandomizedSearchCV which implements exhaustive and randomized search with cross-validated data to find the best parameters from our list. We will use the training set for the grid search."
   ]
  },
  {
   "cell_type": "code",
   "execution_count": 19,
   "id": "46989b50",
   "metadata": {
    "scrolled": true
   },
   "outputs": [
    {
     "name": "stdout",
     "output_type": "stream",
     "text": [
      "# Tuning hyper-parameters for f1\n",
      "\n",
      "Fitting 5 folds for each of 25 candidates, totalling 125 fits\n",
      "Best parameters set found on development set:\n",
      "\n",
      "{'C': 0.1, 'solver': 'liblinear'}\n",
      "\n",
      "Grid scores on development set:\n",
      "\n",
      "0.733 (+/-0.345) for {'C': 0.01, 'solver': 'newton-cg'}\n",
      "0.733 (+/-0.345) for {'C': 0.01, 'solver': 'lbfgs'}\n",
      "0.735 (+/-0.327) for {'C': 0.01, 'solver': 'liblinear'}\n",
      "0.733 (+/-0.345) for {'C': 0.01, 'solver': 'sag'}\n",
      "0.733 (+/-0.345) for {'C': 0.01, 'solver': 'saga'}\n",
      "0.738 (+/-0.303) for {'C': 0.1, 'solver': 'newton-cg'}\n",
      "0.738 (+/-0.303) for {'C': 0.1, 'solver': 'lbfgs'}\n",
      "0.739 (+/-0.298) for {'C': 0.1, 'solver': 'liblinear'}\n",
      "0.738 (+/-0.303) for {'C': 0.1, 'solver': 'sag'}\n",
      "0.738 (+/-0.303) for {'C': 0.1, 'solver': 'saga'}\n",
      "0.734 (+/-0.310) for {'C': 1, 'solver': 'newton-cg'}\n",
      "0.734 (+/-0.310) for {'C': 1, 'solver': 'lbfgs'}\n",
      "0.734 (+/-0.310) for {'C': 1, 'solver': 'liblinear'}\n",
      "0.734 (+/-0.310) for {'C': 1, 'solver': 'sag'}\n",
      "0.734 (+/-0.310) for {'C': 1, 'solver': 'saga'}\n",
      "0.733 (+/-0.313) for {'C': 10, 'solver': 'newton-cg'}\n",
      "0.733 (+/-0.313) for {'C': 10, 'solver': 'lbfgs'}\n",
      "0.733 (+/-0.313) for {'C': 10, 'solver': 'liblinear'}\n",
      "0.733 (+/-0.312) for {'C': 10, 'solver': 'sag'}\n",
      "0.733 (+/-0.312) for {'C': 10, 'solver': 'saga'}\n",
      "0.733 (+/-0.316) for {'C': 100, 'solver': 'newton-cg'}\n",
      "0.733 (+/-0.316) for {'C': 100, 'solver': 'lbfgs'}\n",
      "0.733 (+/-0.316) for {'C': 100, 'solver': 'liblinear'}\n",
      "0.733 (+/-0.316) for {'C': 100, 'solver': 'sag'}\n",
      "0.733 (+/-0.316) for {'C': 100, 'solver': 'saga'}\n",
      "\n",
      "Wall time: 4.82 s\n"
     ]
    },
    {
     "name": "stderr",
     "output_type": "stream",
     "text": [
      "D:\\Program\\anaconda3\\lib\\site-packages\\sklearn\\linear_model\\_logistic.py:1355: UserWarning: 'n_jobs' > 1 does not have any effect when 'solver' is set to 'liblinear'. Got 'n_jobs' = 6.\n",
      "  warnings.warn(\"'n_jobs' > 1 does not have any effect when\"\n"
     ]
    }
   ],
   "source": [
    "%%time\n",
    "tuned_parameters = [\n",
    "    {\n",
    "        'C':[1e-2,0.1,1,10,100],\n",
    "        'solver':['newton-cg', 'lbfgs', 'liblinear', 'sag', 'saga']\n",
    "    }\n",
    "]\n",
    "\n",
    "scores = ['f1']\n",
    "\n",
    "for score in scores:\n",
    "    print(\"# Tuning hyper-parameters for %s\" % score)\n",
    "    print()\n",
    "\n",
    "    clf = model_selection.GridSearchCV(\n",
    "        linear_model.LogisticRegression(random_state=52, n_jobs=6, max_iter=1000),\n",
    "        tuned_parameters, scoring='%s_macro' % score,\n",
    "        n_jobs=6, verbose=1\n",
    "    )\n",
    "    clf.fit(xst, ys)\n",
    "\n",
    "    print(\"Best parameters set found on development set:\")\n",
    "    print()\n",
    "    print(clf.best_params_)\n",
    "    print()\n",
    "    print(\"Grid scores on development set:\")\n",
    "    print()\n",
    "    means = clf.cv_results_['mean_test_score']\n",
    "    stds = clf.cv_results_['std_test_score']\n",
    "    for mean, std, params in zip(means, stds, clf.cv_results_['params']):\n",
    "        print(\"%0.3f (+/-%0.03f) for %r\"\n",
    "              % (mean, std * 2, params))\n",
    "    print()"
   ]
  },
  {
   "cell_type": "code",
   "execution_count": 20,
   "id": "fa0c5015",
   "metadata": {
    "scrolled": true
   },
   "outputs": [
    {
     "name": "stdout",
     "output_type": "stream",
     "text": [
      "# Tuning hyper-parameters for f1\n",
      "\n",
      "Fitting 5 folds for each of 24 candidates, totalling 120 fits\n",
      "Best parameters set found on development set:\n",
      "\n",
      "{'criterion': 'entropy', 'max_depth': 3, 'splitter': 'best'}\n",
      "\n",
      "Grid scores on development set:\n",
      "\n",
      "0.561 (+/-0.289) for {'criterion': 'gini', 'max_depth': 2, 'splitter': 'best'}\n",
      "0.378 (+/-0.195) for {'criterion': 'gini', 'max_depth': 2, 'splitter': 'random'}\n",
      "0.564 (+/-0.370) for {'criterion': 'gini', 'max_depth': 3, 'splitter': 'best'}\n",
      "0.405 (+/-0.255) for {'criterion': 'gini', 'max_depth': 3, 'splitter': 'random'}\n",
      "0.513 (+/-0.297) for {'criterion': 'gini', 'max_depth': 4, 'splitter': 'best'}\n",
      "0.530 (+/-0.321) for {'criterion': 'gini', 'max_depth': 4, 'splitter': 'random'}\n",
      "0.422 (+/-0.145) for {'criterion': 'gini', 'max_depth': 5, 'splitter': 'best'}\n",
      "0.393 (+/-0.143) for {'criterion': 'gini', 'max_depth': 5, 'splitter': 'random'}\n",
      "0.424 (+/-0.144) for {'criterion': 'gini', 'max_depth': 6, 'splitter': 'best'}\n",
      "0.425 (+/-0.140) for {'criterion': 'gini', 'max_depth': 6, 'splitter': 'random'}\n",
      "0.392 (+/-0.141) for {'criterion': 'gini', 'max_depth': None, 'splitter': 'best'}\n",
      "0.390 (+/-0.088) for {'criterion': 'gini', 'max_depth': None, 'splitter': 'random'}\n",
      "0.567 (+/-0.289) for {'criterion': 'entropy', 'max_depth': 2, 'splitter': 'best'}\n",
      "0.378 (+/-0.195) for {'criterion': 'entropy', 'max_depth': 2, 'splitter': 'random'}\n",
      "0.568 (+/-0.376) for {'criterion': 'entropy', 'max_depth': 3, 'splitter': 'best'}\n",
      "0.405 (+/-0.255) for {'criterion': 'entropy', 'max_depth': 3, 'splitter': 'random'}\n",
      "0.511 (+/-0.309) for {'criterion': 'entropy', 'max_depth': 4, 'splitter': 'best'}\n",
      "0.471 (+/-0.289) for {'criterion': 'entropy', 'max_depth': 4, 'splitter': 'random'}\n",
      "0.434 (+/-0.154) for {'criterion': 'entropy', 'max_depth': 5, 'splitter': 'best'}\n",
      "0.405 (+/-0.140) for {'criterion': 'entropy', 'max_depth': 5, 'splitter': 'random'}\n",
      "0.408 (+/-0.127) for {'criterion': 'entropy', 'max_depth': 6, 'splitter': 'best'}\n",
      "0.418 (+/-0.133) for {'criterion': 'entropy', 'max_depth': 6, 'splitter': 'random'}\n",
      "0.389 (+/-0.139) for {'criterion': 'entropy', 'max_depth': None, 'splitter': 'best'}\n",
      "0.396 (+/-0.102) for {'criterion': 'entropy', 'max_depth': None, 'splitter': 'random'}\n",
      "\n",
      "Wall time: 648 ms\n"
     ]
    }
   ],
   "source": [
    "%%time\n",
    "tuned_parameters = [\n",
    "    {\n",
    "        'criterion':['gini','entropy'],\n",
    "        'splitter':['best','random'],\n",
    "        'max_depth':[2,3,4,5,6,None]\n",
    "    }\n",
    "]\n",
    "\n",
    "scores = ['f1']\n",
    "\n",
    "for score in scores:\n",
    "    print(\"# Tuning hyper-parameters for %s\" % score)\n",
    "    print()\n",
    "\n",
    "    clf = model_selection.GridSearchCV(\n",
    "        tree.DecisionTreeClassifier(random_state=52),\n",
    "        tuned_parameters, scoring='%s_macro' % score,\n",
    "        n_jobs=6, verbose=1\n",
    "    )\n",
    "    clf.fit(xs, ys)\n",
    "\n",
    "    print(\"Best parameters set found on development set:\")\n",
    "    print()\n",
    "    print(clf.best_params_)\n",
    "    print()\n",
    "    print(\"Grid scores on development set:\")\n",
    "    print()\n",
    "    means = clf.cv_results_['mean_test_score']\n",
    "    stds = clf.cv_results_['std_test_score']\n",
    "    for mean, std, params in zip(means, stds, clf.cv_results_['params']):\n",
    "        print(\"%0.3f (+/-%0.03f) for %r\"\n",
    "              % (mean, std * 2, params))\n",
    "    print()"
   ]
  },
  {
   "cell_type": "code",
   "execution_count": 21,
   "id": "5e2b954a",
   "metadata": {
    "scrolled": true
   },
   "outputs": [
    {
     "name": "stdout",
     "output_type": "stream",
     "text": [
      "# Tuning hyper-parameters for f1\n",
      "\n",
      "Fitting 5 folds for each of 54 candidates, totalling 270 fits\n",
      "Best parameters set found on development set:\n",
      "\n",
      "{'class_weight': None, 'max_depth': 3, 'max_features': None, 'n_estimators': 100}\n",
      "\n",
      "Grid scores on development set:\n",
      "\n",
      "0.365 (+/-0.110) for {'class_weight': None, 'max_depth': None, 'max_features': 'sqrt', 'n_estimators': 100}\n",
      "0.358 (+/-0.088) for {'class_weight': None, 'max_depth': None, 'max_features': 'sqrt', 'n_estimators': 500}\n",
      "0.357 (+/-0.089) for {'class_weight': None, 'max_depth': None, 'max_features': 'sqrt', 'n_estimators': 1000}\n",
      "0.363 (+/-0.102) for {'class_weight': None, 'max_depth': None, 'max_features': 'log2', 'n_estimators': 100}\n",
      "0.365 (+/-0.105) for {'class_weight': None, 'max_depth': None, 'max_features': 'log2', 'n_estimators': 500}\n",
      "0.366 (+/-0.109) for {'class_weight': None, 'max_depth': None, 'max_features': 'log2', 'n_estimators': 1000}\n",
      "0.381 (+/-0.119) for {'class_weight': None, 'max_depth': None, 'max_features': None, 'n_estimators': 100}\n",
      "0.376 (+/-0.109) for {'class_weight': None, 'max_depth': None, 'max_features': None, 'n_estimators': 500}\n",
      "0.378 (+/-0.114) for {'class_weight': None, 'max_depth': None, 'max_features': None, 'n_estimators': 1000}\n",
      "0.484 (+/-0.368) for {'class_weight': None, 'max_depth': 3, 'max_features': 'sqrt', 'n_estimators': 100}\n",
      "0.501 (+/-0.377) for {'class_weight': None, 'max_depth': 3, 'max_features': 'sqrt', 'n_estimators': 500}\n",
      "0.492 (+/-0.372) for {'class_weight': None, 'max_depth': 3, 'max_features': 'sqrt', 'n_estimators': 1000}\n",
      "0.503 (+/-0.387) for {'class_weight': None, 'max_depth': 3, 'max_features': 'log2', 'n_estimators': 100}\n",
      "0.501 (+/-0.387) for {'class_weight': None, 'max_depth': 3, 'max_features': 'log2', 'n_estimators': 500}\n",
      "0.498 (+/-0.385) for {'class_weight': None, 'max_depth': 3, 'max_features': 'log2', 'n_estimators': 1000}\n",
      "0.593 (+/-0.361) for {'class_weight': None, 'max_depth': 3, 'max_features': None, 'n_estimators': 100}\n",
      "0.549 (+/-0.360) for {'class_weight': None, 'max_depth': 3, 'max_features': None, 'n_estimators': 500}\n",
      "0.548 (+/-0.359) for {'class_weight': None, 'max_depth': 3, 'max_features': None, 'n_estimators': 1000}\n",
      "0.403 (+/-0.205) for {'class_weight': None, 'max_depth': 5, 'max_features': 'sqrt', 'n_estimators': 100}\n",
      "0.405 (+/-0.197) for {'class_weight': None, 'max_depth': 5, 'max_features': 'sqrt', 'n_estimators': 500}\n",
      "0.409 (+/-0.208) for {'class_weight': None, 'max_depth': 5, 'max_features': 'sqrt', 'n_estimators': 1000}\n",
      "0.420 (+/-0.217) for {'class_weight': None, 'max_depth': 5, 'max_features': 'log2', 'n_estimators': 100}\n",
      "0.419 (+/-0.222) for {'class_weight': None, 'max_depth': 5, 'max_features': 'log2', 'n_estimators': 500}\n",
      "0.419 (+/-0.223) for {'class_weight': None, 'max_depth': 5, 'max_features': 'log2', 'n_estimators': 1000}\n",
      "0.467 (+/-0.214) for {'class_weight': None, 'max_depth': 5, 'max_features': None, 'n_estimators': 100}\n",
      "0.447 (+/-0.206) for {'class_weight': None, 'max_depth': 5, 'max_features': None, 'n_estimators': 500}\n",
      "0.444 (+/-0.202) for {'class_weight': None, 'max_depth': 5, 'max_features': None, 'n_estimators': 1000}\n",
      "0.368 (+/-0.105) for {'class_weight': 'balanced', 'max_depth': None, 'max_features': 'sqrt', 'n_estimators': 100}\n",
      "0.359 (+/-0.091) for {'class_weight': 'balanced', 'max_depth': None, 'max_features': 'sqrt', 'n_estimators': 500}\n",
      "0.357 (+/-0.090) for {'class_weight': 'balanced', 'max_depth': None, 'max_features': 'sqrt', 'n_estimators': 1000}\n",
      "0.364 (+/-0.106) for {'class_weight': 'balanced', 'max_depth': None, 'max_features': 'log2', 'n_estimators': 100}\n",
      "0.367 (+/-0.112) for {'class_weight': 'balanced', 'max_depth': None, 'max_features': 'log2', 'n_estimators': 500}\n",
      "0.367 (+/-0.113) for {'class_weight': 'balanced', 'max_depth': None, 'max_features': 'log2', 'n_estimators': 1000}\n",
      "0.385 (+/-0.128) for {'class_weight': 'balanced', 'max_depth': None, 'max_features': None, 'n_estimators': 100}\n",
      "0.381 (+/-0.121) for {'class_weight': 'balanced', 'max_depth': None, 'max_features': None, 'n_estimators': 500}\n",
      "0.381 (+/-0.121) for {'class_weight': 'balanced', 'max_depth': None, 'max_features': None, 'n_estimators': 1000}\n",
      "0.487 (+/-0.373) for {'class_weight': 'balanced', 'max_depth': 3, 'max_features': 'sqrt', 'n_estimators': 100}\n",
      "0.502 (+/-0.379) for {'class_weight': 'balanced', 'max_depth': 3, 'max_features': 'sqrt', 'n_estimators': 500}\n",
      "0.492 (+/-0.373) for {'class_weight': 'balanced', 'max_depth': 3, 'max_features': 'sqrt', 'n_estimators': 1000}\n",
      "0.503 (+/-0.386) for {'class_weight': 'balanced', 'max_depth': 3, 'max_features': 'log2', 'n_estimators': 100}\n",
      "0.500 (+/-0.386) for {'class_weight': 'balanced', 'max_depth': 3, 'max_features': 'log2', 'n_estimators': 500}\n",
      "0.498 (+/-0.385) for {'class_weight': 'balanced', 'max_depth': 3, 'max_features': 'log2', 'n_estimators': 1000}\n",
      "0.593 (+/-0.361) for {'class_weight': 'balanced', 'max_depth': 3, 'max_features': None, 'n_estimators': 100}\n",
      "0.548 (+/-0.360) for {'class_weight': 'balanced', 'max_depth': 3, 'max_features': None, 'n_estimators': 500}\n",
      "0.548 (+/-0.359) for {'class_weight': 'balanced', 'max_depth': 3, 'max_features': None, 'n_estimators': 1000}\n",
      "0.403 (+/-0.203) for {'class_weight': 'balanced', 'max_depth': 5, 'max_features': 'sqrt', 'n_estimators': 100}\n",
      "0.403 (+/-0.200) for {'class_weight': 'balanced', 'max_depth': 5, 'max_features': 'sqrt', 'n_estimators': 500}\n",
      "0.409 (+/-0.208) for {'class_weight': 'balanced', 'max_depth': 5, 'max_features': 'sqrt', 'n_estimators': 1000}\n",
      "0.420 (+/-0.216) for {'class_weight': 'balanced', 'max_depth': 5, 'max_features': 'log2', 'n_estimators': 100}\n",
      "0.418 (+/-0.222) for {'class_weight': 'balanced', 'max_depth': 5, 'max_features': 'log2', 'n_estimators': 500}\n",
      "0.419 (+/-0.224) for {'class_weight': 'balanced', 'max_depth': 5, 'max_features': 'log2', 'n_estimators': 1000}\n",
      "0.467 (+/-0.215) for {'class_weight': 'balanced', 'max_depth': 5, 'max_features': None, 'n_estimators': 100}\n",
      "0.446 (+/-0.204) for {'class_weight': 'balanced', 'max_depth': 5, 'max_features': None, 'n_estimators': 500}\n",
      "0.445 (+/-0.205) for {'class_weight': 'balanced', 'max_depth': 5, 'max_features': None, 'n_estimators': 1000}\n",
      "\n",
      "Wall time: 2min 35s\n"
     ]
    }
   ],
   "source": [
    "%%time\n",
    "tuned_parameters = [{'n_estimators':[100,500,1000],\n",
    "                     'max_depth':[None,3,5],\n",
    "                     'max_features':['sqrt','log2',None],\n",
    "                     'class_weight':[None,'balanced']\n",
    "                    }]\n",
    "\n",
    "scores = ['f1']\n",
    "\n",
    "for score in scores:\n",
    "    print(\"# Tuning hyper-parameters for %s\" % score)\n",
    "    print()\n",
    "\n",
    "    clf = model_selection.GridSearchCV(\n",
    "        ensemble.RandomForestClassifier(n_jobs=6, random_state=52),\n",
    "        tuned_parameters, scoring='%s_macro' % score,\n",
    "        n_jobs=8, verbose=18\n",
    "    )\n",
    "    clf.fit(xs, ys)\n",
    "\n",
    "    print(\"Best parameters set found on development set:\")\n",
    "    print()\n",
    "    print(clf.best_params_)\n",
    "    print()\n",
    "    print(\"Grid scores on development set:\")\n",
    "    print()\n",
    "    means = clf.cv_results_['mean_test_score']\n",
    "    stds = clf.cv_results_['std_test_score']\n",
    "    for mean, std, params in zip(means, stds, clf.cv_results_['params']):\n",
    "        print(\"%0.3f (+/-%0.03f) for %r\"\n",
    "              % (mean, std * 2, params))\n",
    "    print()"
   ]
  },
  {
   "cell_type": "code",
   "execution_count": 22,
   "id": "67b0ebe3",
   "metadata": {
    "scrolled": true
   },
   "outputs": [
    {
     "name": "stdout",
     "output_type": "stream",
     "text": [
      "# Tuning hyper-parameters for f1\n",
      "\n",
      "Fitting 5 folds for each of 50 candidates, totalling 250 fits\n",
      "Best parameters set found on development set:\n",
      "\n",
      "{'max_iter': 10000, 'kernel': 'linear', 'gamma': 'scale', 'cache_size': 200, 'C': 0.1}\n",
      "\n",
      "Grid scores on development set:\n",
      "\n",
      "0.649 (+/-0.392) for {'max_iter': 10000, 'kernel': 'linear', 'gamma': 0.001, 'cache_size': 200, 'C': 10}\n",
      "0.698 (+/-0.394) for {'max_iter': 10000, 'kernel': 'rbf', 'gamma': 'auto', 'cache_size': 512, 'C': 0.01}\n",
      "0.755 (+/-0.249) for {'max_iter': 10000, 'kernel': 'linear', 'gamma': 'scale', 'cache_size': 200, 'C': 0.1}\n",
      "0.707 (+/-0.462) for {'max_iter': 10000, 'kernel': 'rbf', 'gamma': 0.001, 'cache_size': 768, 'C': 0.1}\n",
      "0.755 (+/-0.249) for {'max_iter': 100000, 'kernel': 'linear', 'gamma': 'scale', 'cache_size': 768, 'C': 0.1}\n",
      "0.694 (+/-0.304) for {'max_iter': 100000, 'kernel': 'linear', 'gamma': 'auto', 'cache_size': 256, 'C': 100}\n",
      "0.724 (+/-0.413) for {'max_iter': 10000, 'kernel': 'rbf', 'gamma': 0.001, 'cache_size': 512, 'C': 1}\n",
      "0.753 (+/-0.273) for {'max_iter': 10000, 'kernel': 'linear', 'gamma': 'auto', 'cache_size': 200, 'C': 0.01}\n",
      "0.748 (+/-0.263) for {'max_iter': 10000, 'kernel': 'linear', 'gamma': 0.001, 'cache_size': 256, 'C': 1}\n",
      "0.662 (+/-0.385) for {'max_iter': 10000, 'kernel': 'rbf', 'gamma': 'auto', 'cache_size': 512, 'C': 1}\n",
      "0.749 (+/-0.267) for {'max_iter': 10000, 'kernel': 'rbf', 'gamma': 0.001, 'cache_size': 512, 'C': 10}\n",
      "0.555 (+/-0.275) for {'max_iter': 100000, 'kernel': 'rbf', 'gamma': 'auto', 'cache_size': 256, 'C': 10}\n",
      "0.748 (+/-0.266) for {'max_iter': 100000, 'kernel': 'linear', 'gamma': 'scale', 'cache_size': 512, 'C': 1}\n",
      "0.555 (+/-0.275) for {'max_iter': 10000, 'kernel': 'rbf', 'gamma': 'auto', 'cache_size': 256, 'C': 10}\n",
      "0.718 (+/-0.397) for {'max_iter': 100000, 'kernel': 'rbf', 'gamma': 'scale', 'cache_size': 256, 'C': 0.1}\n",
      "0.555 (+/-0.275) for {'max_iter': 10000, 'kernel': 'rbf', 'gamma': 'scale', 'cache_size': 200, 'C': 10}\n",
      "0.749 (+/-0.267) for {'max_iter': 100000, 'kernel': 'rbf', 'gamma': 0.001, 'cache_size': 256, 'C': 10}\n",
      "0.748 (+/-0.263) for {'max_iter': 10000, 'kernel': 'linear', 'gamma': 'auto', 'cache_size': 768, 'C': 1}\n",
      "0.662 (+/-0.386) for {'max_iter': 100000, 'kernel': 'rbf', 'gamma': 'scale', 'cache_size': 256, 'C': 1}\n",
      "0.753 (+/-0.273) for {'max_iter': 100000, 'kernel': 'linear', 'gamma': 'auto', 'cache_size': 200, 'C': 0.01}\n",
      "0.755 (+/-0.249) for {'max_iter': 10000, 'kernel': 'linear', 'gamma': 'scale', 'cache_size': 768, 'C': 0.1}\n",
      "0.662 (+/-0.386) for {'max_iter': 100000, 'kernel': 'rbf', 'gamma': 'scale', 'cache_size': 512, 'C': 1}\n",
      "0.748 (+/-0.266) for {'max_iter': 100000, 'kernel': 'linear', 'gamma': 'auto', 'cache_size': 256, 'C': 1}\n",
      "0.649 (+/-0.392) for {'max_iter': 10000, 'kernel': 'linear', 'gamma': 0.001, 'cache_size': 768, 'C': 10}\n",
      "0.755 (+/-0.249) for {'max_iter': 10000, 'kernel': 'linear', 'gamma': 'auto', 'cache_size': 512, 'C': 0.1}\n",
      "0.491 (+/-0.179) for {'max_iter': 100000, 'kernel': 'rbf', 'gamma': 'scale', 'cache_size': 256, 'C': 100}\n",
      "0.724 (+/-0.413) for {'max_iter': 100000, 'kernel': 'rbf', 'gamma': 0.001, 'cache_size': 512, 'C': 1}\n",
      "0.755 (+/-0.249) for {'max_iter': 10000, 'kernel': 'linear', 'gamma': 0.001, 'cache_size': 256, 'C': 0.1}\n",
      "0.755 (+/-0.249) for {'max_iter': 10000, 'kernel': 'linear', 'gamma': 'scale', 'cache_size': 512, 'C': 0.1}\n",
      "0.698 (+/-0.394) for {'max_iter': 100000, 'kernel': 'rbf', 'gamma': 'scale', 'cache_size': 768, 'C': 0.01}\n",
      "0.698 (+/-0.394) for {'max_iter': 100000, 'kernel': 'rbf', 'gamma': 'auto', 'cache_size': 512, 'C': 0.01}\n",
      "0.694 (+/-0.304) for {'max_iter': 100000, 'kernel': 'linear', 'gamma': 'auto', 'cache_size': 200, 'C': 100}\n",
      "0.467 (+/-0.424) for {'max_iter': 100000, 'kernel': 'rbf', 'gamma': 0.001, 'cache_size': 256, 'C': 0.01}\n",
      "0.753 (+/-0.273) for {'max_iter': 10000, 'kernel': 'linear', 'gamma': 'auto', 'cache_size': 512, 'C': 0.01}\n",
      "0.753 (+/-0.273) for {'max_iter': 10000, 'kernel': 'linear', 'gamma': 0.001, 'cache_size': 200, 'C': 0.01}\n",
      "0.718 (+/-0.397) for {'max_iter': 100000, 'kernel': 'rbf', 'gamma': 'scale', 'cache_size': 512, 'C': 0.1}\n",
      "0.555 (+/-0.275) for {'max_iter': 10000, 'kernel': 'rbf', 'gamma': 'auto', 'cache_size': 200, 'C': 10}\n",
      "0.649 (+/-0.392) for {'max_iter': 10000, 'kernel': 'linear', 'gamma': 'auto', 'cache_size': 200, 'C': 10}\n",
      "0.492 (+/-0.181) for {'max_iter': 10000, 'kernel': 'rbf', 'gamma': 'scale', 'cache_size': 768, 'C': 100}\n",
      "0.755 (+/-0.249) for {'max_iter': 100000, 'kernel': 'linear', 'gamma': 0.001, 'cache_size': 256, 'C': 0.1}\n",
      "0.748 (+/-0.263) for {'max_iter': 10000, 'kernel': 'linear', 'gamma': 'scale', 'cache_size': 768, 'C': 1}\n",
      "0.662 (+/-0.385) for {'max_iter': 10000, 'kernel': 'rbf', 'gamma': 'auto', 'cache_size': 200, 'C': 1}\n",
      "0.490 (+/-0.177) for {'max_iter': 10000, 'kernel': 'rbf', 'gamma': 'auto', 'cache_size': 512, 'C': 100}\n",
      "0.406 (+/-0.307) for {'max_iter': 10000, 'kernel': 'linear', 'gamma': 'auto', 'cache_size': 200, 'C': 100}\n",
      "0.492 (+/-0.181) for {'max_iter': 10000, 'kernel': 'rbf', 'gamma': 'scale', 'cache_size': 256, 'C': 100}\n",
      "0.755 (+/-0.249) for {'max_iter': 100000, 'kernel': 'linear', 'gamma': 0.001, 'cache_size': 200, 'C': 0.1}\n",
      "0.694 (+/-0.346) for {'max_iter': 10000, 'kernel': 'rbf', 'gamma': 0.001, 'cache_size': 512, 'C': 100}\n",
      "0.724 (+/-0.413) for {'max_iter': 100000, 'kernel': 'rbf', 'gamma': 0.001, 'cache_size': 200, 'C': 1}\n",
      "0.743 (+/-0.271) for {'max_iter': 100000, 'kernel': 'linear', 'gamma': 'auto', 'cache_size': 256, 'C': 10}\n",
      "0.755 (+/-0.249) for {'max_iter': 100000, 'kernel': 'linear', 'gamma': 'scale', 'cache_size': 200, 'C': 0.1}\n",
      "\n",
      "Wall time: 2min 31s\n"
     ]
    }
   ],
   "source": [
    "%%time\n",
    "tuned_parameters = [\n",
    "    {\n",
    "        'C':[0.01,0.1,1,10,100],\n",
    "        'kernel':['linear','rbf'],\n",
    "        'gamma':['auto','scale',1e-3],\n",
    "        'max_iter':[10000,100000],\n",
    "        'cache_size':[200,256,512,768]\n",
    "    }\n",
    "]\n",
    "\n",
    "scores = ['f1']\n",
    "\n",
    "for score in scores:\n",
    "    print(\"# Tuning hyper-parameters for %s\" % score)\n",
    "    print()\n",
    "\n",
    "    clf = model_selection.RandomizedSearchCV(\n",
    "        svm.SVC(random_state=52),\n",
    "        tuned_parameters, scoring='%s_macro' % score,\n",
    "        n_iter=50, n_jobs=6, verbose=18, random_state=52\n",
    "    )\n",
    "    clf.fit(xst, ys)\n",
    "\n",
    "    print(\"Best parameters set found on development set:\")\n",
    "    print()\n",
    "    print(clf.best_params_)\n",
    "    print()\n",
    "    print(\"Grid scores on development set:\")\n",
    "    print()\n",
    "    means = clf.cv_results_['mean_test_score']\n",
    "    stds = clf.cv_results_['std_test_score']\n",
    "    for mean, std, params in zip(means, stds, clf.cv_results_['params']):\n",
    "        print(\"%0.3f (+/-%0.03f) for %r\"\n",
    "              % (mean, std * 2, params))\n",
    "    print()"
   ]
  },
  {
   "cell_type": "code",
   "execution_count": 23,
   "id": "2c436950",
   "metadata": {
    "scrolled": true
   },
   "outputs": [
    {
     "name": "stdout",
     "output_type": "stream",
     "text": [
      "# Tuning hyper-parameters for f1\n",
      "\n",
      "Fitting 5 folds for each of 10 candidates, totalling 50 fits\n",
      "Best parameters set found on development set:\n",
      "\n",
      "{'n_neighbors': 11, 'weights': 'uniform'}\n",
      "\n",
      "Grid scores on development set:\n",
      "\n",
      "0.617 (+/-0.323) for {'n_neighbors': 3, 'weights': 'uniform'}\n",
      "0.592 (+/-0.289) for {'n_neighbors': 3, 'weights': 'distance'}\n",
      "0.637 (+/-0.356) for {'n_neighbors': 5, 'weights': 'uniform'}\n",
      "0.613 (+/-0.326) for {'n_neighbors': 5, 'weights': 'distance'}\n",
      "0.647 (+/-0.359) for {'n_neighbors': 7, 'weights': 'uniform'}\n",
      "0.619 (+/-0.340) for {'n_neighbors': 7, 'weights': 'distance'}\n",
      "0.652 (+/-0.370) for {'n_neighbors': 9, 'weights': 'uniform'}\n",
      "0.624 (+/-0.344) for {'n_neighbors': 9, 'weights': 'distance'}\n",
      "0.658 (+/-0.378) for {'n_neighbors': 11, 'weights': 'uniform'}\n",
      "0.628 (+/-0.353) for {'n_neighbors': 11, 'weights': 'distance'}\n",
      "\n",
      "Wall time: 5.99 s\n"
     ]
    }
   ],
   "source": [
    "%%time\n",
    "tuned_parameters = [\n",
    "    {\n",
    "        'n_neighbors':[3,5,7,9,11],\n",
    "        'weights':['uniform','distance']\n",
    "    }\n",
    "]\n",
    "\n",
    "scores = ['f1']\n",
    "\n",
    "for score in scores:\n",
    "    print(\"# Tuning hyper-parameters for %s\" % score)\n",
    "    print()\n",
    "\n",
    "    clf = model_selection.GridSearchCV(\n",
    "        neighbors.KNeighborsClassifier(n_jobs=6),\n",
    "        tuned_parameters, scoring='%s_macro' % score,\n",
    "        n_jobs=6,verbose=1\n",
    "    )\n",
    "    clf.fit(xst, ys)\n",
    "\n",
    "    print(\"Best parameters set found on development set:\")\n",
    "    print()\n",
    "    print(clf.best_params_)\n",
    "    print()\n",
    "    print(\"Grid scores on development set:\")\n",
    "    print()\n",
    "    means = clf.cv_results_['mean_test_score']\n",
    "    stds = clf.cv_results_['std_test_score']\n",
    "    for mean, std, params in zip(means, stds, clf.cv_results_['params']):\n",
    "        print(\"%0.3f (+/-%0.03f) for %r\"\n",
    "              % (mean, std * 2, params))\n",
    "    print()"
   ]
  },
  {
   "cell_type": "code",
   "execution_count": 24,
   "id": "10e0394f",
   "metadata": {
    "scrolled": true
   },
   "outputs": [
    {
     "name": "stdout",
     "output_type": "stream",
     "text": [
      "# Tuning hyper-parameters for f1\n",
      "\n",
      "Fitting 5 folds for each of 24 candidates, totalling 120 fits\n",
      "Best parameters set found on development set:\n",
      "\n",
      "{'learning_rate': 0.1, 'n_estimators': 20}\n",
      "\n",
      "Grid scores on development set:\n",
      "\n",
      "0.513 (+/-0.379) for {'learning_rate': 0.01, 'n_estimators': 10}\n",
      "0.514 (+/-0.382) for {'learning_rate': 0.01, 'n_estimators': 20}\n",
      "0.515 (+/-0.386) for {'learning_rate': 0.01, 'n_estimators': 30}\n",
      "0.513 (+/-0.384) for {'learning_rate': 0.01, 'n_estimators': 40}\n",
      "0.515 (+/-0.386) for {'learning_rate': 0.01, 'n_estimators': 50}\n",
      "0.586 (+/-0.356) for {'learning_rate': 0.01, 'n_estimators': 100}\n",
      "0.538 (+/-0.431) for {'learning_rate': 0.1, 'n_estimators': 10}\n",
      "0.624 (+/-0.377) for {'learning_rate': 0.1, 'n_estimators': 20}\n",
      "0.615 (+/-0.376) for {'learning_rate': 0.1, 'n_estimators': 30}\n",
      "0.612 (+/-0.370) for {'learning_rate': 0.1, 'n_estimators': 40}\n",
      "0.620 (+/-0.372) for {'learning_rate': 0.1, 'n_estimators': 50}\n",
      "0.539 (+/-0.294) for {'learning_rate': 0.1, 'n_estimators': 100}\n",
      "0.563 (+/-0.311) for {'learning_rate': 1, 'n_estimators': 10}\n",
      "0.471 (+/-0.216) for {'learning_rate': 1, 'n_estimators': 20}\n",
      "0.467 (+/-0.191) for {'learning_rate': 1, 'n_estimators': 30}\n",
      "0.455 (+/-0.184) for {'learning_rate': 1, 'n_estimators': 40}\n",
      "0.453 (+/-0.185) for {'learning_rate': 1, 'n_estimators': 50}\n",
      "0.426 (+/-0.156) for {'learning_rate': 1, 'n_estimators': 100}\n",
      "0.375 (+/-0.347) for {'learning_rate': 10, 'n_estimators': 10}\n",
      "0.375 (+/-0.347) for {'learning_rate': 10, 'n_estimators': 20}\n",
      "0.375 (+/-0.347) for {'learning_rate': 10, 'n_estimators': 30}\n",
      "0.375 (+/-0.347) for {'learning_rate': 10, 'n_estimators': 40}\n",
      "0.375 (+/-0.347) for {'learning_rate': 10, 'n_estimators': 50}\n",
      "0.375 (+/-0.347) for {'learning_rate': 10, 'n_estimators': 100}\n",
      "\n",
      "Wall time: 10.1 s\n"
     ]
    }
   ],
   "source": [
    "%%time\n",
    "tuned_parameters = [\n",
    "    {\n",
    "        'n_estimators':[10,20,30,40,50,100],\n",
    "        'learning_rate':[0.01,0.1,1,10]\n",
    "    }\n",
    "]\n",
    "\n",
    "scores = ['f1']\n",
    "\n",
    "for score in scores:\n",
    "    print(\"# Tuning hyper-parameters for %s\" % score)\n",
    "    print()\n",
    "\n",
    "    clf = model_selection.GridSearchCV(\n",
    "        ensemble.AdaBoostClassifier(random_state=52),\n",
    "        tuned_parameters, scoring='%s_macro' % score,\n",
    "        n_jobs=6,verbose=1\n",
    "    )\n",
    "    clf.fit(xst, ys)\n",
    "\n",
    "    print(\"Best parameters set found on development set:\")\n",
    "    print()\n",
    "    print(clf.best_params_)\n",
    "    print()\n",
    "    print(\"Grid scores on development set:\")\n",
    "    print()\n",
    "    means = clf.cv_results_['mean_test_score']\n",
    "    stds = clf.cv_results_['std_test_score']\n",
    "    for mean, std, params in zip(means, stds, clf.cv_results_['params']):\n",
    "        print(\"%0.3f (+/-%0.03f) for %r\"\n",
    "              % (mean, std * 2, params))\n",
    "    print()"
   ]
  },
  {
   "cell_type": "markdown",
   "id": "97a1b21b",
   "metadata": {},
   "source": [
    "### Model definition\n",
    "Insert our found best parameters into each model."
   ]
  },
  {
   "cell_type": "code",
   "execution_count": 25,
   "id": "f552b4ea",
   "metadata": {},
   "outputs": [],
   "source": [
    "logreg = linear_model.LogisticRegression(C=0.1, solver='liblinear', max_iter=50000, random_state=52)\n",
    "dtre = tree.DecisionTreeClassifier(criterion='entropy', max_depth=3, splitter='best', random_state=52)\n",
    "ranfor = ensemble.RandomForestClassifier(max_depth=3, n_estimators=100, max_features=None, class_weight=None, n_jobs=6, random_state=52)\n",
    "svc = svm.SVC(max_iter=100000, kernel='linear', gamma='scale', C=0.1, cache_size=768, random_state=52)\n",
    "knn = neighbors.KNeighborsClassifier(n_neighbors=11, weights='uniform', n_jobs=6)\n",
    "gnb = naive_bayes.GaussianNB()\n",
    "ada = ensemble.AdaBoostClassifier(n_estimators=20, learning_rate=0.1, random_state=52)"
   ]
  },
  {
   "cell_type": "markdown",
   "id": "3840cd6d",
   "metadata": {},
   "source": [
    "## Model Training\n",
    "Fit the model into training data"
   ]
  },
  {
   "cell_type": "code",
   "execution_count": 26,
   "id": "ba1284b1",
   "metadata": {},
   "outputs": [
    {
     "name": "stdout",
     "output_type": "stream",
     "text": [
      "Wall time: 38.1 ms\n"
     ]
    },
    {
     "data": {
      "text/plain": [
       "LogisticRegression(C=0.1, max_iter=50000, random_state=52, solver='liblinear')"
      ]
     },
     "execution_count": 26,
     "metadata": {},
     "output_type": "execute_result"
    }
   ],
   "source": [
    "%time logreg.fit(xst,ys)"
   ]
  },
  {
   "cell_type": "code",
   "execution_count": 27,
   "id": "db78e2c9",
   "metadata": {},
   "outputs": [
    {
     "name": "stdout",
     "output_type": "stream",
     "text": [
      "Wall time: 16.6 ms\n"
     ]
    },
    {
     "data": {
      "text/plain": [
       "DecisionTreeClassifier(criterion='entropy', max_depth=3, random_state=52)"
      ]
     },
     "execution_count": 27,
     "metadata": {},
     "output_type": "execute_result"
    }
   ],
   "source": [
    "%time dtre.fit(xs,ys)"
   ]
  },
  {
   "cell_type": "code",
   "execution_count": 28,
   "id": "519b7502",
   "metadata": {},
   "outputs": [
    {
     "name": "stdout",
     "output_type": "stream",
     "text": [
      "Wall time: 308 ms\n"
     ]
    },
    {
     "data": {
      "text/plain": [
       "RandomForestClassifier(max_depth=3, max_features=None, n_jobs=6,\n",
       "                       random_state=52)"
      ]
     },
     "execution_count": 28,
     "metadata": {},
     "output_type": "execute_result"
    }
   ],
   "source": [
    "%time ranfor.fit(xs,ys)"
   ]
  },
  {
   "cell_type": "code",
   "execution_count": 29,
   "id": "f61b12a8",
   "metadata": {},
   "outputs": [
    {
     "name": "stdout",
     "output_type": "stream",
     "text": [
      "Wall time: 1.53 s\n"
     ]
    },
    {
     "data": {
      "text/plain": [
       "SVC(C=0.1, cache_size=768, kernel='linear', max_iter=100000, random_state=52)"
      ]
     },
     "execution_count": 29,
     "metadata": {},
     "output_type": "execute_result"
    }
   ],
   "source": [
    "%time svc.fit(xst,ys)"
   ]
  },
  {
   "cell_type": "code",
   "execution_count": 30,
   "id": "72b47120",
   "metadata": {},
   "outputs": [
    {
     "name": "stdout",
     "output_type": "stream",
     "text": [
      "Wall time: 1.95 ms\n"
     ]
    },
    {
     "data": {
      "text/plain": [
       "KNeighborsClassifier(n_jobs=6, n_neighbors=11)"
      ]
     },
     "execution_count": 30,
     "metadata": {},
     "output_type": "execute_result"
    }
   ],
   "source": [
    "%time knn.fit(xst,ys)"
   ]
  },
  {
   "cell_type": "code",
   "execution_count": 31,
   "id": "0c23e215",
   "metadata": {},
   "outputs": [
    {
     "name": "stdout",
     "output_type": "stream",
     "text": [
      "Wall time: 10.7 ms\n"
     ]
    },
    {
     "data": {
      "text/plain": [
       "GaussianNB()"
      ]
     },
     "execution_count": 31,
     "metadata": {},
     "output_type": "execute_result"
    }
   ],
   "source": [
    "%time gnb.fit(xs,ys)"
   ]
  },
  {
   "cell_type": "code",
   "execution_count": 32,
   "id": "4fb7f363",
   "metadata": {
    "scrolled": true
   },
   "outputs": [
    {
     "name": "stdout",
     "output_type": "stream",
     "text": [
      "Wall time: 147 ms\n"
     ]
    },
    {
     "data": {
      "text/plain": [
       "AdaBoostClassifier(learning_rate=0.1, n_estimators=20, random_state=52)"
      ]
     },
     "execution_count": 32,
     "metadata": {},
     "output_type": "execute_result"
    }
   ],
   "source": [
    "%time ada.fit(xs,ys)"
   ]
  },
  {
   "cell_type": "markdown",
   "id": "48ea9fb1",
   "metadata": {},
   "source": [
    "## Model evaluation"
   ]
  },
  {
   "cell_type": "markdown",
   "id": "51c966c7",
   "metadata": {},
   "source": [
    "### Cross validation\n",
    "Cross validate the model using 5-fold cross validation on training set.\n",
    "\n",
    "The result is displayed on the table below. From cross validation result, all models achieve less than 80% accuracy and F1 score. There's similarly low precision and recall macro score which tells us that misclassification is still high, despite the model optimized with resampled training set containing equal value of both labels."
   ]
  },
  {
   "cell_type": "code",
   "execution_count": 33,
   "id": "55165469",
   "metadata": {},
   "outputs": [],
   "source": [
    "scorers=['accuracy','f1_macro','precision_macro','recall_macro']\n",
    "results=['test_accuracy','test_precision_macro','test_recall_macro','test_f1_macro']\n",
    "cindex =['Logistic Regression','Decision Tree Classifier','Random Forest Classifier','Support Vector Classifier',\n",
    "         'K-Neighbors Classifier','Gaussian Naive Bayes','AdaBoost Classifier']"
   ]
  },
  {
   "cell_type": "code",
   "execution_count": 34,
   "id": "f05b85ef",
   "metadata": {},
   "outputs": [
    {
     "data": {
      "text/html": [
       "<div>\n",
       "<style scoped>\n",
       "    .dataframe tbody tr th:only-of-type {\n",
       "        vertical-align: middle;\n",
       "    }\n",
       "\n",
       "    .dataframe tbody tr th {\n",
       "        vertical-align: top;\n",
       "    }\n",
       "\n",
       "    .dataframe thead th {\n",
       "        text-align: right;\n",
       "    }\n",
       "</style>\n",
       "<table border=\"1\" class=\"dataframe\">\n",
       "  <thead>\n",
       "    <tr style=\"text-align: right;\">\n",
       "      <th></th>\n",
       "      <th>accuracy</th>\n",
       "      <th>f1_macro</th>\n",
       "      <th>precision_macro</th>\n",
       "      <th>recall_macro</th>\n",
       "    </tr>\n",
       "  </thead>\n",
       "  <tbody>\n",
       "    <tr>\n",
       "      <th>Logistic Regression</th>\n",
       "      <td>0.751904</td>\n",
       "      <td>0.764106</td>\n",
       "      <td>0.751904</td>\n",
       "      <td>0.738734</td>\n",
       "    </tr>\n",
       "    <tr>\n",
       "      <th>Decision Tree Classifier</th>\n",
       "      <td>0.605892</td>\n",
       "      <td>0.582413</td>\n",
       "      <td>0.605854</td>\n",
       "      <td>0.568066</td>\n",
       "    </tr>\n",
       "    <tr>\n",
       "      <th>Random Forest Classifier</th>\n",
       "      <td>0.626355</td>\n",
       "      <td>0.606548</td>\n",
       "      <td>0.626322</td>\n",
       "      <td>0.593321</td>\n",
       "    </tr>\n",
       "    <tr>\n",
       "      <th>Support Vector Classifier</th>\n",
       "      <td>0.763174</td>\n",
       "      <td>0.774771</td>\n",
       "      <td>0.763173</td>\n",
       "      <td>0.755244</td>\n",
       "    </tr>\n",
       "    <tr>\n",
       "      <th>K-Neighbors Classifier</th>\n",
       "      <td>0.684416</td>\n",
       "      <td>0.679033</td>\n",
       "      <td>0.684419</td>\n",
       "      <td>0.658072</td>\n",
       "    </tr>\n",
       "    <tr>\n",
       "      <th>Gaussian Naive Bayes</th>\n",
       "      <td>0.702554</td>\n",
       "      <td>0.684780</td>\n",
       "      <td>0.702557</td>\n",
       "      <td>0.680741</td>\n",
       "    </tr>\n",
       "    <tr>\n",
       "      <th>AdaBoost Classifier</th>\n",
       "      <td>0.652915</td>\n",
       "      <td>0.628053</td>\n",
       "      <td>0.652896</td>\n",
       "      <td>0.624408</td>\n",
       "    </tr>\n",
       "  </tbody>\n",
       "</table>\n",
       "</div>"
      ],
      "text/plain": [
       "                           accuracy  f1_macro  precision_macro  recall_macro\n",
       "Logistic Regression        0.751904  0.764106         0.751904      0.738734\n",
       "Decision Tree Classifier   0.605892  0.582413         0.605854      0.568066\n",
       "Random Forest Classifier   0.626355  0.606548         0.626322      0.593321\n",
       "Support Vector Classifier  0.763174  0.774771         0.763173      0.755244\n",
       "K-Neighbors Classifier     0.684416  0.679033         0.684419      0.658072\n",
       "Gaussian Naive Bayes       0.702554  0.684780         0.702557      0.680741\n",
       "AdaBoost Classifier        0.652915  0.628053         0.652896      0.624408"
      ]
     },
     "metadata": {},
     "output_type": "display_data"
    }
   ],
   "source": [
    "s1 = model_selection.cross_validate(logreg, xst, ys, scoring=scorers, n_jobs=6)\n",
    "s2 = model_selection.cross_validate(dtre, xs, ys, scoring=scorers, n_jobs=6)\n",
    "s3 = model_selection.cross_validate(ranfor, xs, ys, scoring=scorers, n_jobs=6)\n",
    "s4 = model_selection.cross_validate(svc, xst, ys, scoring=scorers, n_jobs=6)\n",
    "s5 = model_selection.cross_validate(knn, xst, ys, scoring=scorers, n_jobs=6)\n",
    "s6 = model_selection.cross_validate(gnb, xs, ys, scoring=scorers, n_jobs=6)\n",
    "s7 = model_selection.cross_validate(ada, xs, ys, scoring=scorers, n_jobs=6)\n",
    "\n",
    "scum = pd.DataFrame(index=cindex)\n",
    "for i in range(len(scorers)):\n",
    "    scum[scorers[i]] = [\n",
    "        s1[results[i]].mean(),s2[results[i]].mean(),s3[results[i]].mean(),\n",
    "        s4[results[i]].mean(),s5[results[i]].mean(),s6[results[i]].mean(),\n",
    "        s7[results[i]].mean(),]\n",
    "\n",
    "display(scum)"
   ]
  },
  {
   "cell_type": "markdown",
   "id": "7c85f7fa",
   "metadata": {},
   "source": [
    "## Model Inference"
   ]
  },
  {
   "cell_type": "markdown",
   "id": "c0fd9fe8",
   "metadata": {},
   "source": [
    "### Predict test set\n",
    "Predict classification result on the full data set and scoring metrics.\n",
    "\n",
    "Test scores fare better than training score, with several models have accuracy higher than 80%."
   ]
  },
  {
   "cell_type": "code",
   "execution_count": 35,
   "id": "454968ac",
   "metadata": {
    "scrolled": true
   },
   "outputs": [
    {
     "data": {
      "text/html": [
       "<div>\n",
       "<style scoped>\n",
       "    .dataframe tbody tr th:only-of-type {\n",
       "        vertical-align: middle;\n",
       "    }\n",
       "\n",
       "    .dataframe tbody tr th {\n",
       "        vertical-align: top;\n",
       "    }\n",
       "\n",
       "    .dataframe thead th {\n",
       "        text-align: right;\n",
       "    }\n",
       "</style>\n",
       "<table border=\"1\" class=\"dataframe\">\n",
       "  <thead>\n",
       "    <tr style=\"text-align: right;\">\n",
       "      <th></th>\n",
       "      <th>accuracy</th>\n",
       "      <th>f1-score</th>\n",
       "      <th>precision</th>\n",
       "      <th>recall</th>\n",
       "    </tr>\n",
       "  </thead>\n",
       "  <tbody>\n",
       "    <tr>\n",
       "      <th>Logistic Regression</th>\n",
       "      <td>0.843315</td>\n",
       "      <td>0.741587</td>\n",
       "      <td>0.707046</td>\n",
       "      <td>0.847375</td>\n",
       "    </tr>\n",
       "    <tr>\n",
       "      <th>Decision Tree Classifier</th>\n",
       "      <td>0.811532</td>\n",
       "      <td>0.710962</td>\n",
       "      <td>0.684443</td>\n",
       "      <td>0.838931</td>\n",
       "    </tr>\n",
       "    <tr>\n",
       "      <th>Random Forest Classifier</th>\n",
       "      <td>0.807793</td>\n",
       "      <td>0.708801</td>\n",
       "      <td>0.683487</td>\n",
       "      <td>0.841997</td>\n",
       "    </tr>\n",
       "    <tr>\n",
       "      <th>Support Vector Classifier</th>\n",
       "      <td>0.837018</td>\n",
       "      <td>0.737041</td>\n",
       "      <td>0.703548</td>\n",
       "      <td>0.851415</td>\n",
       "    </tr>\n",
       "    <tr>\n",
       "      <th>K-Neighbors Classifier</th>\n",
       "      <td>0.832655</td>\n",
       "      <td>0.731800</td>\n",
       "      <td>0.699434</td>\n",
       "      <td>0.847256</td>\n",
       "    </tr>\n",
       "    <tr>\n",
       "      <th>Gaussian Naive Bayes</th>\n",
       "      <td>0.786211</td>\n",
       "      <td>0.662468</td>\n",
       "      <td>0.643893</td>\n",
       "      <td>0.755302</td>\n",
       "    </tr>\n",
       "    <tr>\n",
       "      <th>AdaBoost Classifier</th>\n",
       "      <td>0.796084</td>\n",
       "      <td>0.699920</td>\n",
       "      <td>0.678729</td>\n",
       "      <td>0.844157</td>\n",
       "    </tr>\n",
       "  </tbody>\n",
       "</table>\n",
       "</div>"
      ],
      "text/plain": [
       "                           accuracy  f1-score  precision    recall\n",
       "Logistic Regression        0.843315  0.741587   0.707046  0.847375\n",
       "Decision Tree Classifier   0.811532  0.710962   0.684443  0.838931\n",
       "Random Forest Classifier   0.807793  0.708801   0.683487  0.841997\n",
       "Support Vector Classifier  0.837018  0.737041   0.703548  0.851415\n",
       "K-Neighbors Classifier     0.832655  0.731800   0.699434  0.847256\n",
       "Gaussian Naive Bayes       0.786211  0.662468   0.643893  0.755302\n",
       "AdaBoost Classifier        0.796084  0.699920   0.678729  0.844157"
      ]
     },
     "metadata": {},
     "output_type": "display_data"
    }
   ],
   "source": [
    "lres = ['f1-score','precision','recall']\n",
    "\n",
    "cr1 = metrics.classification_report(y,logreg.predict(xt), output_dict=True)\n",
    "cr2 = metrics.classification_report(y,dtre.predict(x), output_dict=True)\n",
    "cr3 = metrics.classification_report(y,ranfor.predict(x), output_dict=True)\n",
    "cr4 = metrics.classification_report(y,svc.predict(xt), output_dict=True)\n",
    "cr5 = metrics.classification_report(y,knn.predict(xt), output_dict=True)\n",
    "cr6 = metrics.classification_report(y,gnb.predict(x), output_dict=True)\n",
    "cr7 = metrics.classification_report(y,ada.predict(x), output_dict=True)\n",
    "\n",
    "res = pd.DataFrame(index=cindex)\n",
    "\n",
    "for i in range(len(lres)):\n",
    "    if i == 0:\n",
    "        res['accuracy'] = [\n",
    "            cr1['accuracy'], cr2['accuracy'], cr3['accuracy'], cr4['accuracy'],\n",
    "            cr5['accuracy'], cr6['accuracy'], cr7['accuracy']\n",
    "        ]\n",
    "    res[lres[i]] = [\n",
    "        cr1['macro avg'][lres[i]], cr2['macro avg'][lres[i]], cr3['macro avg'][lres[i]],\n",
    "        cr4['macro avg'][lres[i]], cr5['macro avg'][lres[i]], cr6['macro avg'][lres[i]],\n",
    "        cr7['macro avg'][lres[i]]\n",
    "    ]\n",
    "\n",
    "\n",
    "display(res)"
   ]
  },
  {
   "cell_type": "markdown",
   "id": "4ed461c9",
   "metadata": {},
   "source": [
    "### Confusion matrix\n",
    "All trained models have high false positive rate for class 1 (subscription) based on the confusion matrix of test set."
   ]
  },
  {
   "cell_type": "code",
   "execution_count": 36,
   "id": "95a00739",
   "metadata": {},
   "outputs": [
    {
     "data": {
      "image/png": "[encoded data removed]",
      "text/plain": [
       "<Figure size 1008x1008 with 9 Axes>"
      ]
     },
     "metadata": {
      "needs_background": "light"
     },
     "output_type": "display_data"
    }
   ],
   "source": [
    "cm1 = metrics.confusion_matrix(y, logreg.predict(xt))\n",
    "cm2 = metrics.confusion_matrix(y, dtre.predict(x))\n",
    "cm3 = metrics.confusion_matrix(y, ranfor.predict(x))\n",
    "cm4 = metrics.confusion_matrix(y, svc.predict(xt))\n",
    "cm5 = metrics.confusion_matrix(y, knn.predict(xt))\n",
    "cm6 = metrics.confusion_matrix(y, gnb.predict(x))\n",
    "cm7 = metrics.confusion_matrix(y, ada.predict(x))\n",
    "\n",
    "clist = [cm1,cm2,cm3,cm4,cm5,cm6,cm7]\n",
    "\n",
    "fig, axes = plt.subplots(3, 3, figsize=(14, 14))\n",
    "for cls, ax, j in zip(clist, axes.flatten(), range(len(cindex))):\n",
    "    metrics.ConfusionMatrixDisplay(cls).plot(cmap='Blues', colorbar=False, ax=ax)\n",
    "    ax.title.set_text(cindex[j])\n",
    "plt.tight_layout()\n",
    "plt.show()"
   ]
  },
  {
   "cell_type": "markdown",
   "id": "5a1b72ee",
   "metadata": {},
   "source": [
    "### Model performance comparison\n",
    "From the graph below we can see that logistic regression achieve the highest accuracy and f1 score, followed by support vector classifier."
   ]
  },
  {
   "cell_type": "code",
   "execution_count": 37,
   "id": "ac940362",
   "metadata": {},
   "outputs": [
    {
     "data": {
      "text/plain": [
       "<AxesSubplot:>"
      ]
     },
     "execution_count": 37,
     "metadata": {},
     "output_type": "execute_result"
    },
    {
     "data": {
      "image/png": "[encoded data removed]",
      "text/plain": [
       "<Figure size 936x576 with 1 Axes>"
      ]
     },
     "metadata": {
      "needs_background": "light"
     },
     "output_type": "display_data"
    }
   ],
   "source": [
    "res.plot(kind='barh', y=['accuracy','f1-score'], figsize=(13, 8), rot=0, grid=True)"
   ]
  },
  {
   "cell_type": "markdown",
   "id": "fab87dba",
   "metadata": {},
   "source": [
    "### Train-test score difference on best model\n",
    "The difference between training and test scores for logistic regression is around -0.10 - 0.04, showing higher scores on test accuracy and recall. The highest difference is in recall score, while there is little difference in F1 and precision score.\n",
    "\n",
    "While the difference between values is rather small, the overall scores are below 0.8 except for accuracy and recall."
   ]
  },
  {
   "cell_type": "code",
   "execution_count": 38,
   "id": "cea1bd57",
   "metadata": {},
   "outputs": [
    {
     "name": "stdout",
     "output_type": "stream",
     "text": [
      "Accuracy difference : -0.09141118214938526 \n",
      "F1 difference : 0.02251869717952626 \n",
      "Precision difference : 0.0448584672739093 \n",
      "Recall difference : -0.10864144242074392\n"
     ]
    }
   ],
   "source": [
    "print('Accuracy difference :',(scum.accuracy[0] - res.accuracy[0]),\n",
    "      '\\nF1 difference :', (scum['f1_macro'][0] - res['f1-score'][0]),\n",
    "      '\\nPrecision difference :', (scum['precision_macro'][0] - res['precision'][0]),\n",
    "      '\\nRecall difference :', (scum['recall_macro'][0] - res['recall'][0]),\n",
    "     )"
   ]
  },
  {
   "cell_type": "markdown",
   "id": "1ceb00b9",
   "metadata": {},
   "source": [
    "## Conclusion\n",
    "Based on the result above, logistic regression is the best performing model among the models used in the work.\n",
    "\n",
    "On model performance: Resampling imbalanced class might have helped classification performance on the minor class, but also brings a higher misclassification. As seen on the confusion matrix, the precision of class 1 is below 50% (more false positive than true positive) despite using the best performing hyperparameter based on training data."
   ]
  }
 ],
 "metadata": {
  "kernelspec": {
   "display_name": "Python 3",
   "language": "python",
   "name": "python3"
  },
  "language_info": {
   "codemirror_mode": {
    "name": "ipython",
    "version": 3
   },
   "file_extension": ".py",
   "mimetype": "text/x-python",
   "name": "python",
   "nbconvert_exporter": "python",
   "pygments_lexer": "ipython3",
   "version": "3.8.5"
  }
 },
 "nbformat": 4,
 "nbformat_minor": 5
}
